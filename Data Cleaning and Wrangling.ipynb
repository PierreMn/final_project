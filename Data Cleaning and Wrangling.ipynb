{
 "cells": [
  {
   "cell_type": "code",
   "execution_count": 7,
   "id": "520ebda4-93b4-493b-b3fb-980f6155866b",
   "metadata": {},
   "outputs": [],
   "source": [
    "import pandas as pd\n",
    "import numpy as np\n",
    "from sqlalchemy import create_engine\n",
    "import sqlalchemy\n",
    "import pymysql.cursors\n",
    "import os\n",
    "import yaml\n"
   ]
  },
  {
   "cell_type": "markdown",
   "id": "39bbf01d-d1ea-4176-aaf9-d1ebaa268aa2",
   "metadata": {},
   "source": [
    "## 1. Data Cleaning"
   ]
  },
  {
   "cell_type": "markdown",
   "id": "49447435-48fd-46f7-bee0-8211e5328cce",
   "metadata": {},
   "source": [
    "### Data Cleaning of the main dataframe (Sorare Cards Transactions)"
   ]
  },
  {
   "cell_type": "markdown",
   "id": "1c077749-90b0-4bb9-af04-b7472137744f",
   "metadata": {},
   "source": [
    "#### a.  Sorare Transactions Loading & bird's view\n"
   ]
  },
  {
   "cell_type": "code",
   "execution_count": 8,
   "id": "033c2b39-fd51-44af-b530-579fd0e380d0",
   "metadata": {},
   "outputs": [],
   "source": [
    "all_transactions_df = pd.read_csv('all_players_cards_transactions_la_liga.csv', dtype={20: str})"
   ]
  },
  {
   "cell_type": "code",
   "execution_count": 9,
   "id": "586b082b-0034-4ec7-8068-5ea29139ecc9",
   "metadata": {},
   "outputs": [
    {
     "data": {
      "text/plain": [
       "(1741383, 21)"
      ]
     },
     "execution_count": 9,
     "metadata": {},
     "output_type": "execute_result"
    }
   ],
   "source": [
    "all_transactions_df.shape"
   ]
  },
  {
   "cell_type": "code",
   "execution_count": 10,
   "id": "b5788960-1199-409f-8d5c-3f60124dad00",
   "metadata": {},
   "outputs": [
    {
     "data": {
      "text/plain": [
       "team_name              object\n",
       "card_id                object\n",
       "asset_id               object\n",
       "card_name              object\n",
       "season_year             int64\n",
       "card_slug              object\n",
       "rarity                 object\n",
       "card_creation_date     object\n",
       "grade                   int64\n",
       "power                 float64\n",
       "xp                      int64\n",
       "serial_number           int64\n",
       "shirt_number            int64\n",
       "special_edition        object\n",
       "transaction_date       object\n",
       "transaction_type       object\n",
       "price_wei               int64\n",
       "price_eur             float64\n",
       "user_id                object\n",
       "user_slug              object\n",
       "player_slug            object\n",
       "dtype: object"
      ]
     },
     "execution_count": 10,
     "metadata": {},
     "output_type": "execute_result"
    }
   ],
   "source": [
    "all_transactions_df.dtypes"
   ]
  },
  {
   "cell_type": "code",
   "execution_count": 11,
   "id": "36e0f20b-fdbe-4790-8980-a8cac0cb9267",
   "metadata": {},
   "outputs": [
    {
     "data": {
      "text/html": [
       "<div>\n",
       "<style scoped>\n",
       "    .dataframe tbody tr th:only-of-type {\n",
       "        vertical-align: middle;\n",
       "    }\n",
       "\n",
       "    .dataframe tbody tr th {\n",
       "        vertical-align: top;\n",
       "    }\n",
       "\n",
       "    .dataframe thead th {\n",
       "        text-align: right;\n",
       "    }\n",
       "</style>\n",
       "<table border=\"1\" class=\"dataframe\">\n",
       "  <thead>\n",
       "    <tr style=\"text-align: right;\">\n",
       "      <th></th>\n",
       "      <th>team_name</th>\n",
       "      <th>card_id</th>\n",
       "      <th>asset_id</th>\n",
       "      <th>card_name</th>\n",
       "      <th>season_year</th>\n",
       "      <th>card_slug</th>\n",
       "      <th>rarity</th>\n",
       "      <th>card_creation_date</th>\n",
       "      <th>grade</th>\n",
       "      <th>power</th>\n",
       "      <th>...</th>\n",
       "      <th>serial_number</th>\n",
       "      <th>shirt_number</th>\n",
       "      <th>special_edition</th>\n",
       "      <th>transaction_date</th>\n",
       "      <th>transaction_type</th>\n",
       "      <th>price_wei</th>\n",
       "      <th>price_eur</th>\n",
       "      <th>user_id</th>\n",
       "      <th>user_slug</th>\n",
       "      <th>player_slug</th>\n",
       "    </tr>\n",
       "  </thead>\n",
       "  <tbody>\n",
       "    <tr>\n",
       "      <th>0</th>\n",
       "      <td>Real Madrid CF</td>\n",
       "      <td>Card:00035848-b60d-4999-832c-e4dd8e939007</td>\n",
       "      <td>0x040004752c83837b25107500c71efa485aafb6cf1b82...</td>\n",
       "      <td>Nacho 2021-22 • Limited 218/1000</td>\n",
       "      <td>2021</td>\n",
       "      <td>jose-ignacio-fernandez-iglesias-2021-limited-218</td>\n",
       "      <td>limited</td>\n",
       "      <td>2021-11-25T03:40:39Z</td>\n",
       "      <td>7</td>\n",
       "      <td>1.045</td>\n",
       "      <td>...</td>\n",
       "      <td>218</td>\n",
       "      <td>6</td>\n",
       "      <td>NaN</td>\n",
       "      <td>2022-01-18T10:23:04Z</td>\n",
       "      <td>REFERRAL</td>\n",
       "      <td>0</td>\n",
       "      <td>0.000000</td>\n",
       "      <td>User:dff07274-2664-4ed9-9308-4de48a2b8bec</td>\n",
       "      <td>serveg</td>\n",
       "      <td>jose-ignacio-fernandez-iglesias</td>\n",
       "    </tr>\n",
       "    <tr>\n",
       "      <th>1</th>\n",
       "      <td>Real Madrid CF</td>\n",
       "      <td>Card:01058883-d9bc-4fe7-953e-1ac82197e006</td>\n",
       "      <td>0x040016f093c032839408074366792f3f16f388d20a20...</td>\n",
       "      <td>Nacho 2021-22 • Limited 488/1000</td>\n",
       "      <td>2021</td>\n",
       "      <td>jose-ignacio-fernandez-iglesias-2021-limited-488</td>\n",
       "      <td>limited</td>\n",
       "      <td>2022-05-31T08:58:22Z</td>\n",
       "      <td>13</td>\n",
       "      <td>1.075</td>\n",
       "      <td>...</td>\n",
       "      <td>488</td>\n",
       "      <td>6</td>\n",
       "      <td>NaN</td>\n",
       "      <td>2022-07-19T09:23:20Z</td>\n",
       "      <td>ENGLISH_AUCTION</td>\n",
       "      <td>6500000000000000</td>\n",
       "      <td>9.747140</td>\n",
       "      <td>User:ee426172-1955-4317-98d7-480476d0bb28</td>\n",
       "      <td>anonymous-8f8df118-a1d8-493d-9a5e-98997ed6450b</td>\n",
       "      <td>jose-ignacio-fernandez-iglesias</td>\n",
       "    </tr>\n",
       "    <tr>\n",
       "      <th>2</th>\n",
       "      <td>Real Madrid CF</td>\n",
       "      <td>Card:01058883-d9bc-4fe7-953e-1ac82197e006</td>\n",
       "      <td>0x040016f093c032839408074366792f3f16f388d20a20...</td>\n",
       "      <td>Nacho 2021-22 • Limited 488/1000</td>\n",
       "      <td>2021</td>\n",
       "      <td>jose-ignacio-fernandez-iglesias-2021-limited-488</td>\n",
       "      <td>limited</td>\n",
       "      <td>2022-05-31T08:58:22Z</td>\n",
       "      <td>13</td>\n",
       "      <td>1.075</td>\n",
       "      <td>...</td>\n",
       "      <td>488</td>\n",
       "      <td>6</td>\n",
       "      <td>NaN</td>\n",
       "      <td>2022-07-19T09:36:47Z</td>\n",
       "      <td>SINGLE_SALE_OFFER</td>\n",
       "      <td>5100000000000000</td>\n",
       "      <td>7.647756</td>\n",
       "      <td>User:f831ecc8-990a-42e7-94b5-6656536685f5</td>\n",
       "      <td>bugggyman-ua</td>\n",
       "      <td>jose-ignacio-fernandez-iglesias</td>\n",
       "    </tr>\n",
       "    <tr>\n",
       "      <th>3</th>\n",
       "      <td>Real Madrid CF</td>\n",
       "      <td>Card:01058883-d9bc-4fe7-953e-1ac82197e006</td>\n",
       "      <td>0x040016f093c032839408074366792f3f16f388d20a20...</td>\n",
       "      <td>Nacho 2021-22 • Limited 488/1000</td>\n",
       "      <td>2021</td>\n",
       "      <td>jose-ignacio-fernandez-iglesias-2021-limited-488</td>\n",
       "      <td>limited</td>\n",
       "      <td>2022-05-31T08:58:22Z</td>\n",
       "      <td>13</td>\n",
       "      <td>1.075</td>\n",
       "      <td>...</td>\n",
       "      <td>488</td>\n",
       "      <td>6</td>\n",
       "      <td>NaN</td>\n",
       "      <td>2022-07-19T11:55:20Z</td>\n",
       "      <td>SINGLE_SALE_OFFER</td>\n",
       "      <td>5400000000000000</td>\n",
       "      <td>8.116470</td>\n",
       "      <td>User:9d7ae8cb-c48e-4e5b-8715-eae0826c06c1</td>\n",
       "      <td>junmisugi84-e6f8dfdd-08b3-463f-a2b5-d5870eb74deb</td>\n",
       "      <td>jose-ignacio-fernandez-iglesias</td>\n",
       "    </tr>\n",
       "    <tr>\n",
       "      <th>4</th>\n",
       "      <td>Real Madrid CF</td>\n",
       "      <td>Card:01058883-d9bc-4fe7-953e-1ac82197e006</td>\n",
       "      <td>0x040016f093c032839408074366792f3f16f388d20a20...</td>\n",
       "      <td>Nacho 2021-22 • Limited 488/1000</td>\n",
       "      <td>2021</td>\n",
       "      <td>jose-ignacio-fernandez-iglesias-2021-limited-488</td>\n",
       "      <td>limited</td>\n",
       "      <td>2022-05-31T08:58:22Z</td>\n",
       "      <td>13</td>\n",
       "      <td>1.075</td>\n",
       "      <td>...</td>\n",
       "      <td>488</td>\n",
       "      <td>6</td>\n",
       "      <td>NaN</td>\n",
       "      <td>2023-03-14T10:28:55Z</td>\n",
       "      <td>SINGLE_BUY_OFFER</td>\n",
       "      <td>2800000000000000</td>\n",
       "      <td>4.356016</td>\n",
       "      <td>User:2d9f44fb-d504-4159-96bd-89deaa61e585</td>\n",
       "      <td>alvaropm019</td>\n",
       "      <td>jose-ignacio-fernandez-iglesias</td>\n",
       "    </tr>\n",
       "  </tbody>\n",
       "</table>\n",
       "<p>5 rows × 21 columns</p>\n",
       "</div>"
      ],
      "text/plain": [
       "        team_name                                    card_id  \\\n",
       "0  Real Madrid CF  Card:00035848-b60d-4999-832c-e4dd8e939007   \n",
       "1  Real Madrid CF  Card:01058883-d9bc-4fe7-953e-1ac82197e006   \n",
       "2  Real Madrid CF  Card:01058883-d9bc-4fe7-953e-1ac82197e006   \n",
       "3  Real Madrid CF  Card:01058883-d9bc-4fe7-953e-1ac82197e006   \n",
       "4  Real Madrid CF  Card:01058883-d9bc-4fe7-953e-1ac82197e006   \n",
       "\n",
       "                                            asset_id  \\\n",
       "0  0x040004752c83837b25107500c71efa485aafb6cf1b82...   \n",
       "1  0x040016f093c032839408074366792f3f16f388d20a20...   \n",
       "2  0x040016f093c032839408074366792f3f16f388d20a20...   \n",
       "3  0x040016f093c032839408074366792f3f16f388d20a20...   \n",
       "4  0x040016f093c032839408074366792f3f16f388d20a20...   \n",
       "\n",
       "                          card_name  season_year  \\\n",
       "0  Nacho 2021-22 • Limited 218/1000         2021   \n",
       "1  Nacho 2021-22 • Limited 488/1000         2021   \n",
       "2  Nacho 2021-22 • Limited 488/1000         2021   \n",
       "3  Nacho 2021-22 • Limited 488/1000         2021   \n",
       "4  Nacho 2021-22 • Limited 488/1000         2021   \n",
       "\n",
       "                                          card_slug   rarity  \\\n",
       "0  jose-ignacio-fernandez-iglesias-2021-limited-218  limited   \n",
       "1  jose-ignacio-fernandez-iglesias-2021-limited-488  limited   \n",
       "2  jose-ignacio-fernandez-iglesias-2021-limited-488  limited   \n",
       "3  jose-ignacio-fernandez-iglesias-2021-limited-488  limited   \n",
       "4  jose-ignacio-fernandez-iglesias-2021-limited-488  limited   \n",
       "\n",
       "     card_creation_date  grade  power  ...  serial_number  shirt_number  \\\n",
       "0  2021-11-25T03:40:39Z      7  1.045  ...            218             6   \n",
       "1  2022-05-31T08:58:22Z     13  1.075  ...            488             6   \n",
       "2  2022-05-31T08:58:22Z     13  1.075  ...            488             6   \n",
       "3  2022-05-31T08:58:22Z     13  1.075  ...            488             6   \n",
       "4  2022-05-31T08:58:22Z     13  1.075  ...            488             6   \n",
       "\n",
       "   special_edition      transaction_date   transaction_type         price_wei  \\\n",
       "0              NaN  2022-01-18T10:23:04Z           REFERRAL                 0   \n",
       "1              NaN  2022-07-19T09:23:20Z    ENGLISH_AUCTION  6500000000000000   \n",
       "2              NaN  2022-07-19T09:36:47Z  SINGLE_SALE_OFFER  5100000000000000   \n",
       "3              NaN  2022-07-19T11:55:20Z  SINGLE_SALE_OFFER  5400000000000000   \n",
       "4              NaN  2023-03-14T10:28:55Z   SINGLE_BUY_OFFER  2800000000000000   \n",
       "\n",
       "   price_eur                                    user_id  \\\n",
       "0   0.000000  User:dff07274-2664-4ed9-9308-4de48a2b8bec   \n",
       "1   9.747140  User:ee426172-1955-4317-98d7-480476d0bb28   \n",
       "2   7.647756  User:f831ecc8-990a-42e7-94b5-6656536685f5   \n",
       "3   8.116470  User:9d7ae8cb-c48e-4e5b-8715-eae0826c06c1   \n",
       "4   4.356016  User:2d9f44fb-d504-4159-96bd-89deaa61e585   \n",
       "\n",
       "                                          user_slug  \\\n",
       "0                                            serveg   \n",
       "1    anonymous-8f8df118-a1d8-493d-9a5e-98997ed6450b   \n",
       "2                                      bugggyman-ua   \n",
       "3  junmisugi84-e6f8dfdd-08b3-463f-a2b5-d5870eb74deb   \n",
       "4                                       alvaropm019   \n",
       "\n",
       "                       player_slug  \n",
       "0  jose-ignacio-fernandez-iglesias  \n",
       "1  jose-ignacio-fernandez-iglesias  \n",
       "2  jose-ignacio-fernandez-iglesias  \n",
       "3  jose-ignacio-fernandez-iglesias  \n",
       "4  jose-ignacio-fernandez-iglesias  \n",
       "\n",
       "[5 rows x 21 columns]"
      ]
     },
     "execution_count": 11,
     "metadata": {},
     "output_type": "execute_result"
    }
   ],
   "source": [
    "all_transactions_df.head()"
   ]
  },
  {
   "cell_type": "markdown",
   "id": "f1cbce51-d619-47c8-8f8f-ab19df77588c",
   "metadata": {},
   "source": [
    "#### b. removing null values"
   ]
  },
  {
   "cell_type": "code",
   "execution_count": 12,
   "id": "8a3f57a5-3aac-4b62-8bf7-2b6dbc0b16d1",
   "metadata": {},
   "outputs": [
    {
     "data": {
      "text/plain": [
       "team_name                   0\n",
       "card_id                     0\n",
       "asset_id                    0\n",
       "card_name                   0\n",
       "season_year                 0\n",
       "card_slug                   0\n",
       "rarity                      0\n",
       "card_creation_date          0\n",
       "grade                       0\n",
       "power                       0\n",
       "xp                          0\n",
       "serial_number               0\n",
       "shirt_number                0\n",
       "special_edition       1503306\n",
       "transaction_date            0\n",
       "transaction_type            0\n",
       "price_wei                   0\n",
       "price_eur                   0\n",
       "user_id                     0\n",
       "user_slug                   0\n",
       "player_slug             61549\n",
       "dtype: int64"
      ]
     },
     "execution_count": 12,
     "metadata": {},
     "output_type": "execute_result"
    }
   ],
   "source": [
    "all_transactions_df.isna().sum()"
   ]
  },
  {
   "cell_type": "code",
   "execution_count": 13,
   "id": "499eaf0b-bf2e-4115-8def-c820efff9a0d",
   "metadata": {},
   "outputs": [],
   "source": [
    "#1 for \"special edition\" replacing values: \n",
    "## - all_transactions_df['special_edition'].value_counts() shows that \"classic\" edition appears recently and is not a \"special edition\" attribute. \n",
    "## - handled by putting \"classic\" and none values to \"False\" and others to \"True\" and convert to boolean. \n",
    "\n",
    "\n",
    "all_transactions_df['special_edition'] = all_transactions_df['special_edition'].fillna('unknown')\n",
    "\n",
    "# Replace 'classic' with 'False' and all other values with 'True'\n",
    "all_transactions_df['special_edition'] = all_transactions_df['special_edition'].replace({'classic': False})\n",
    "all_transactions_df['special_edition'] = all_transactions_df['special_edition'].replace({'unknown': False}, regex=True)\n",
    "all_transactions_df['special_edition'] = all_transactions_df['special_edition'].replace({'.*': True}, regex=True)\n",
    "\n",
    "# Convert the column to boolean type\n",
    "all_transactions_df['special_edition'] = all_transactions_df['special_edition'].astype(bool)"
   ]
  },
  {
   "cell_type": "code",
   "execution_count": 14,
   "id": "1c023468-a7e1-4e1d-be52-8e0fd5eaf021",
   "metadata": {},
   "outputs": [
    {
     "data": {
      "text/plain": [
       "special_edition\n",
       "False    1693790\n",
       "True       47593\n",
       "Name: count, dtype: int64"
      ]
     },
     "execution_count": 14,
     "metadata": {},
     "output_type": "execute_result"
    }
   ],
   "source": [
    "all_transactions_df['special_edition'].value_counts()"
   ]
  },
  {
   "cell_type": "code",
   "execution_count": 16,
   "id": "6c8f49c5-74f6-4773-8d2e-e5a4f7898d16",
   "metadata": {},
   "outputs": [],
   "source": [
    "# removing the null values in \"player_slug\"\n",
    "all_transactions_df.dropna(subset=['player_slug'], inplace=True)"
   ]
  },
  {
   "cell_type": "markdown",
   "id": "bda5a348-354e-48c1-aac6-dfdeb8e9256e",
   "metadata": {},
   "source": [
    "#### c. Parsing and computing the dates: "
   ]
  },
  {
   "cell_type": "code",
   "execution_count": 17,
   "id": "ba4e059d-2dea-4822-8462-b07062a65ace",
   "metadata": {},
   "outputs": [],
   "source": [
    "def time_computation(df, column):\n",
    "    df[column] = pd.to_datetime(df[column])\n",
    "    df[f'{column}_year'] = df[column].dt.year\n",
    "    df[f'{column}_month'] = df[column].dt.month\n",
    "    df[f'{column}_week'] = df[column].dt.isocalendar().week\n",
    "    df[f'{column}_dayofyear'] = df[column].dt.dayofyear\n",
    "    df[f'{column}_season'] = np.where(df[column].dt.month >= 8, df[f'{column}_year'], df[f'{column}_year'] - 1)\n",
    "    df[f'{column}_season'] = 'season_' + df[f'{column}_season'].astype(str)\n",
    "    return df\n",
    "\n",
    "all_transactions_df = time_computation(all_transactions_df, 'card_creation_date')\n",
    "all_transactions_df = time_computation(all_transactions_df, 'transaction_date')"
   ]
  },
  {
   "cell_type": "code",
   "execution_count": 18,
   "id": "b0c8aaef-625b-426d-b572-d2fb9832cbdc",
   "metadata": {},
   "outputs": [
    {
     "data": {
      "text/html": [
       "<div>\n",
       "<style scoped>\n",
       "    .dataframe tbody tr th:only-of-type {\n",
       "        vertical-align: middle;\n",
       "    }\n",
       "\n",
       "    .dataframe tbody tr th {\n",
       "        vertical-align: top;\n",
       "    }\n",
       "\n",
       "    .dataframe thead th {\n",
       "        text-align: right;\n",
       "    }\n",
       "</style>\n",
       "<table border=\"1\" class=\"dataframe\">\n",
       "  <thead>\n",
       "    <tr style=\"text-align: right;\">\n",
       "      <th></th>\n",
       "      <th>team_name</th>\n",
       "      <th>card_id</th>\n",
       "      <th>asset_id</th>\n",
       "      <th>card_name</th>\n",
       "      <th>season_year</th>\n",
       "      <th>card_slug</th>\n",
       "      <th>rarity</th>\n",
       "      <th>card_creation_date</th>\n",
       "      <th>grade</th>\n",
       "      <th>power</th>\n",
       "      <th>...</th>\n",
       "      <th>card_creation_date_year</th>\n",
       "      <th>card_creation_date_month</th>\n",
       "      <th>card_creation_date_week</th>\n",
       "      <th>card_creation_date_dayofyear</th>\n",
       "      <th>card_creation_date_season</th>\n",
       "      <th>transaction_date_year</th>\n",
       "      <th>transaction_date_month</th>\n",
       "      <th>transaction_date_week</th>\n",
       "      <th>transaction_date_dayofyear</th>\n",
       "      <th>transaction_date_season</th>\n",
       "    </tr>\n",
       "  </thead>\n",
       "  <tbody>\n",
       "    <tr>\n",
       "      <th>0</th>\n",
       "      <td>Real Madrid CF</td>\n",
       "      <td>Card:00035848-b60d-4999-832c-e4dd8e939007</td>\n",
       "      <td>0x040004752c83837b25107500c71efa485aafb6cf1b82...</td>\n",
       "      <td>Nacho 2021-22 • Limited 218/1000</td>\n",
       "      <td>2021</td>\n",
       "      <td>jose-ignacio-fernandez-iglesias-2021-limited-218</td>\n",
       "      <td>limited</td>\n",
       "      <td>2021-11-25 03:40:39+00:00</td>\n",
       "      <td>7</td>\n",
       "      <td>1.045</td>\n",
       "      <td>...</td>\n",
       "      <td>2021</td>\n",
       "      <td>11</td>\n",
       "      <td>47</td>\n",
       "      <td>329</td>\n",
       "      <td>season_2021</td>\n",
       "      <td>2022</td>\n",
       "      <td>1</td>\n",
       "      <td>3</td>\n",
       "      <td>18</td>\n",
       "      <td>season_2021</td>\n",
       "    </tr>\n",
       "    <tr>\n",
       "      <th>1</th>\n",
       "      <td>Real Madrid CF</td>\n",
       "      <td>Card:01058883-d9bc-4fe7-953e-1ac82197e006</td>\n",
       "      <td>0x040016f093c032839408074366792f3f16f388d20a20...</td>\n",
       "      <td>Nacho 2021-22 • Limited 488/1000</td>\n",
       "      <td>2021</td>\n",
       "      <td>jose-ignacio-fernandez-iglesias-2021-limited-488</td>\n",
       "      <td>limited</td>\n",
       "      <td>2022-05-31 08:58:22+00:00</td>\n",
       "      <td>13</td>\n",
       "      <td>1.075</td>\n",
       "      <td>...</td>\n",
       "      <td>2022</td>\n",
       "      <td>5</td>\n",
       "      <td>22</td>\n",
       "      <td>151</td>\n",
       "      <td>season_2021</td>\n",
       "      <td>2022</td>\n",
       "      <td>7</td>\n",
       "      <td>29</td>\n",
       "      <td>200</td>\n",
       "      <td>season_2021</td>\n",
       "    </tr>\n",
       "    <tr>\n",
       "      <th>2</th>\n",
       "      <td>Real Madrid CF</td>\n",
       "      <td>Card:01058883-d9bc-4fe7-953e-1ac82197e006</td>\n",
       "      <td>0x040016f093c032839408074366792f3f16f388d20a20...</td>\n",
       "      <td>Nacho 2021-22 • Limited 488/1000</td>\n",
       "      <td>2021</td>\n",
       "      <td>jose-ignacio-fernandez-iglesias-2021-limited-488</td>\n",
       "      <td>limited</td>\n",
       "      <td>2022-05-31 08:58:22+00:00</td>\n",
       "      <td>13</td>\n",
       "      <td>1.075</td>\n",
       "      <td>...</td>\n",
       "      <td>2022</td>\n",
       "      <td>5</td>\n",
       "      <td>22</td>\n",
       "      <td>151</td>\n",
       "      <td>season_2021</td>\n",
       "      <td>2022</td>\n",
       "      <td>7</td>\n",
       "      <td>29</td>\n",
       "      <td>200</td>\n",
       "      <td>season_2021</td>\n",
       "    </tr>\n",
       "    <tr>\n",
       "      <th>3</th>\n",
       "      <td>Real Madrid CF</td>\n",
       "      <td>Card:01058883-d9bc-4fe7-953e-1ac82197e006</td>\n",
       "      <td>0x040016f093c032839408074366792f3f16f388d20a20...</td>\n",
       "      <td>Nacho 2021-22 • Limited 488/1000</td>\n",
       "      <td>2021</td>\n",
       "      <td>jose-ignacio-fernandez-iglesias-2021-limited-488</td>\n",
       "      <td>limited</td>\n",
       "      <td>2022-05-31 08:58:22+00:00</td>\n",
       "      <td>13</td>\n",
       "      <td>1.075</td>\n",
       "      <td>...</td>\n",
       "      <td>2022</td>\n",
       "      <td>5</td>\n",
       "      <td>22</td>\n",
       "      <td>151</td>\n",
       "      <td>season_2021</td>\n",
       "      <td>2022</td>\n",
       "      <td>7</td>\n",
       "      <td>29</td>\n",
       "      <td>200</td>\n",
       "      <td>season_2021</td>\n",
       "    </tr>\n",
       "    <tr>\n",
       "      <th>4</th>\n",
       "      <td>Real Madrid CF</td>\n",
       "      <td>Card:01058883-d9bc-4fe7-953e-1ac82197e006</td>\n",
       "      <td>0x040016f093c032839408074366792f3f16f388d20a20...</td>\n",
       "      <td>Nacho 2021-22 • Limited 488/1000</td>\n",
       "      <td>2021</td>\n",
       "      <td>jose-ignacio-fernandez-iglesias-2021-limited-488</td>\n",
       "      <td>limited</td>\n",
       "      <td>2022-05-31 08:58:22+00:00</td>\n",
       "      <td>13</td>\n",
       "      <td>1.075</td>\n",
       "      <td>...</td>\n",
       "      <td>2022</td>\n",
       "      <td>5</td>\n",
       "      <td>22</td>\n",
       "      <td>151</td>\n",
       "      <td>season_2021</td>\n",
       "      <td>2023</td>\n",
       "      <td>3</td>\n",
       "      <td>11</td>\n",
       "      <td>73</td>\n",
       "      <td>season_2022</td>\n",
       "    </tr>\n",
       "  </tbody>\n",
       "</table>\n",
       "<p>5 rows × 31 columns</p>\n",
       "</div>"
      ],
      "text/plain": [
       "        team_name                                    card_id  \\\n",
       "0  Real Madrid CF  Card:00035848-b60d-4999-832c-e4dd8e939007   \n",
       "1  Real Madrid CF  Card:01058883-d9bc-4fe7-953e-1ac82197e006   \n",
       "2  Real Madrid CF  Card:01058883-d9bc-4fe7-953e-1ac82197e006   \n",
       "3  Real Madrid CF  Card:01058883-d9bc-4fe7-953e-1ac82197e006   \n",
       "4  Real Madrid CF  Card:01058883-d9bc-4fe7-953e-1ac82197e006   \n",
       "\n",
       "                                            asset_id  \\\n",
       "0  0x040004752c83837b25107500c71efa485aafb6cf1b82...   \n",
       "1  0x040016f093c032839408074366792f3f16f388d20a20...   \n",
       "2  0x040016f093c032839408074366792f3f16f388d20a20...   \n",
       "3  0x040016f093c032839408074366792f3f16f388d20a20...   \n",
       "4  0x040016f093c032839408074366792f3f16f388d20a20...   \n",
       "\n",
       "                          card_name  season_year  \\\n",
       "0  Nacho 2021-22 • Limited 218/1000         2021   \n",
       "1  Nacho 2021-22 • Limited 488/1000         2021   \n",
       "2  Nacho 2021-22 • Limited 488/1000         2021   \n",
       "3  Nacho 2021-22 • Limited 488/1000         2021   \n",
       "4  Nacho 2021-22 • Limited 488/1000         2021   \n",
       "\n",
       "                                          card_slug   rarity  \\\n",
       "0  jose-ignacio-fernandez-iglesias-2021-limited-218  limited   \n",
       "1  jose-ignacio-fernandez-iglesias-2021-limited-488  limited   \n",
       "2  jose-ignacio-fernandez-iglesias-2021-limited-488  limited   \n",
       "3  jose-ignacio-fernandez-iglesias-2021-limited-488  limited   \n",
       "4  jose-ignacio-fernandez-iglesias-2021-limited-488  limited   \n",
       "\n",
       "         card_creation_date  grade  power  ...  card_creation_date_year  \\\n",
       "0 2021-11-25 03:40:39+00:00      7  1.045  ...                     2021   \n",
       "1 2022-05-31 08:58:22+00:00     13  1.075  ...                     2022   \n",
       "2 2022-05-31 08:58:22+00:00     13  1.075  ...                     2022   \n",
       "3 2022-05-31 08:58:22+00:00     13  1.075  ...                     2022   \n",
       "4 2022-05-31 08:58:22+00:00     13  1.075  ...                     2022   \n",
       "\n",
       "   card_creation_date_month  card_creation_date_week  \\\n",
       "0                        11                       47   \n",
       "1                         5                       22   \n",
       "2                         5                       22   \n",
       "3                         5                       22   \n",
       "4                         5                       22   \n",
       "\n",
       "   card_creation_date_dayofyear card_creation_date_season  \\\n",
       "0                           329               season_2021   \n",
       "1                           151               season_2021   \n",
       "2                           151               season_2021   \n",
       "3                           151               season_2021   \n",
       "4                           151               season_2021   \n",
       "\n",
       "  transaction_date_year  transaction_date_month  transaction_date_week  \\\n",
       "0                  2022                       1                      3   \n",
       "1                  2022                       7                     29   \n",
       "2                  2022                       7                     29   \n",
       "3                  2022                       7                     29   \n",
       "4                  2023                       3                     11   \n",
       "\n",
       "  transaction_date_dayofyear transaction_date_season  \n",
       "0                         18             season_2021  \n",
       "1                        200             season_2021  \n",
       "2                        200             season_2021  \n",
       "3                        200             season_2021  \n",
       "4                         73             season_2022  \n",
       "\n",
       "[5 rows x 31 columns]"
      ]
     },
     "execution_count": 18,
     "metadata": {},
     "output_type": "execute_result"
    }
   ],
   "source": [
    "all_transactions_df.head()"
   ]
  },
  {
   "cell_type": "markdown",
   "id": "0e287677-ac37-48a6-9e92-47e98fccc1a5",
   "metadata": {},
   "source": [
    "#### d. Removing transactions when players were not in a la liga clubs"
   ]
  },
  {
   "cell_type": "code",
   "execution_count": null,
   "id": "c3e1d881-b92f-4dc5-acd6-038b62ee0d1a",
   "metadata": {},
   "outputs": [],
   "source": [
    "# Removing special cards that don't are interesting in the "
   ]
  },
  {
   "cell_type": "code",
   "execution_count": 19,
   "id": "4aed58b2-4de5-4c4c-bd25-06e036b2a292",
   "metadata": {},
   "outputs": [],
   "source": [
    "# list of slugs and names of la liga clubs since 2021: \n",
    "\n",
    "list_of_team_slugs = [\"real-madrid-madrid\",\n",
    "                 \"girona-girona\",\n",
    "                 \"barcelona-barcelona\", \n",
    "                 \"atletico-madrid-madrid\",\n",
    "                 \"athletic-club-bilbao\",\n",
    "                 \"real-sociedad-donostia-san-sebastian\", \n",
    "                 \"valencia-valencia\", \n",
    "                 \"real-betis-sevilla\",\n",
    "                 \"las-palmas-las-palmas-de-gran-canaria\",\n",
    "                \"getafe-getafe-madrid\",\n",
    "                 \"deportivo-alaves-vitoria-gasteiz\",\n",
    "                 \"osasuna-pamplona-irunea\",\n",
    "                 \"rayo-vallecano-madrid\",\n",
    "                 \"villarreal-villarreal\",\n",
    "                 \"sevilla-sevilla-1890\",\n",
    "                 \"celta-de-vigo-vigo\",\n",
    "                 \"mallorca-palma-de-mallorca\",\n",
    "                 \"cadiz-cadiz\",\n",
    "                 \"granada-granada\",\n",
    "                 \"almeria-almeria\",\n",
    "                 \"real-valladolid-valladolid\",\n",
    "                 \"espanyol-barcelona\",\n",
    "                 \"elche-elche\",\n",
    "                 \"levante-valencia\"\n",
    "                ]\n",
    "\n",
    "list_of_team_names = ['Real Madrid CF',\n",
    "                 'Girona FC',\n",
    "                 'FC Barcelona',\n",
    "                 'Club Atlético de Madrid',\n",
    "                 'Athletic Club Bilbao',\n",
    "                 'Real Sociedad de Fútbol',\n",
    "                 'Valencia CF',\n",
    "                 'Real Betis Balompié',\n",
    "                 'UD Las Palmas',\n",
    "                 'Getafe Club de Fútbol',\n",
    "                 'Deportivo Alavés',\n",
    "                 'CA Osasuna',\n",
    "                 'Rayo Vallecano',\n",
    "                 'Villarreal CF',\n",
    "                 'Sevilla FC',\n",
    "                 'Real Club Celta de Vigo',\n",
    "                 'Real Club Deportivo Mallorca',\n",
    "                 'Cádiz CF',\n",
    "                 'Granada CF',\n",
    "                 'UD Almería',\n",
    "                 'Real Valladolid Club de Fútbol',\n",
    "                 'Reial Club Deportiu Espanyol',\n",
    "                 'Elche CF',\n",
    "                 'Levante UD']"
   ]
  },
  {
   "cell_type": "code",
   "execution_count": null,
   "id": "b90e49be-54f7-4d60-9b05-f552210c90b5",
   "metadata": {},
   "outputs": [],
   "source": []
  },
  {
   "cell_type": "code",
   "execution_count": 20,
   "id": "c231fee6-b8cc-454b-97b7-72085c91d0b6",
   "metadata": {},
   "outputs": [],
   "source": [
    "#loading the clubs history of players\n",
    "\n",
    "players_club_hist_df = pd.read_csv('clubs_hist.csv')"
   ]
  },
  {
   "cell_type": "code",
   "execution_count": 21,
   "id": "1aa75a08-1971-4322-933d-1a2c953a776f",
   "metadata": {},
   "outputs": [
    {
     "data": {
      "text/plain": [
       "player_slug            object\n",
       "position               object\n",
       "age                     int64\n",
       "u23_eligible             bool\n",
       "u23_until              object\n",
       "club_slug              object\n",
       "contract_start_date    object\n",
       "contract_end_date      object\n",
       "dtype: object"
      ]
     },
     "execution_count": 21,
     "metadata": {},
     "output_type": "execute_result"
    }
   ],
   "source": [
    "players_club_hist_df.dtypes"
   ]
  },
  {
   "cell_type": "code",
   "execution_count": 22,
   "id": "584281f6-0fb9-40c2-bfcc-cffe83e45f4b",
   "metadata": {},
   "outputs": [],
   "source": [
    "#parsing the date: \n",
    "players_club_hist_df['contract_start_date'] = pd.to_datetime(players_club_hist_df['contract_start_date'])\n",
    "players_club_hist_df['contract_end_date'] = pd.to_datetime(players_club_hist_df['contract_end_date'])"
   ]
  },
  {
   "cell_type": "code",
   "execution_count": 23,
   "id": "b0aa664c-fe71-4925-8801-a459d33132dd",
   "metadata": {},
   "outputs": [],
   "source": [
    "\n",
    "\n",
    "# Step 1: Filter players_club_hist_df for La Liga club history\n",
    "la_liga_clubs_df = players_club_hist_df[players_club_hist_df['club_slug'].isin(list_of_team_slugs)]\n",
    "\n",
    "# Step 2: Merge all_transactions_df with la_liga_clubs_df based on player_slug and contract dates\n",
    "merged_df = pd.merge(all_transactions_df, la_liga_clubs_df, on='player_slug', how='inner')\n",
    "filtered_transactions_df = merged_df[\n",
    "    (merged_df['transaction_date'] >= merged_df['contract_start_date']) &\n",
    "    (merged_df['transaction_date'] <= merged_df['contract_end_date'])\n",
    "].copy() # Create a copy of the DataFrame\n",
    "\n",
    "# Step 3: Rename columns to avoid confusion\n",
    "filtered_transactions_df.rename(columns={'club_slug': 'club_slug_upon_transaction', 'team_name': 'present_team_name'}, inplace=True)\n",
    "\n",
    "# Step 4: Drop unnecessary columns\n",
    "filtered_transactions_df = filtered_transactions_df.drop(columns=['contract_start_date', 'contract_end_date'])\n",
    "\n"
   ]
  },
  {
   "cell_type": "code",
   "execution_count": 24,
   "id": "a29ac9fe-cbc1-4b3f-bc52-ed5fe8780957",
   "metadata": {},
   "outputs": [
    {
     "data": {
      "text/plain": [
       "(1349824, 36)"
      ]
     },
     "execution_count": 24,
     "metadata": {},
     "output_type": "execute_result"
    }
   ],
   "source": [
    "filtered_transactions_df.shape"
   ]
  },
  {
   "cell_type": "code",
   "execution_count": 25,
   "id": "fc233fd7-4c19-4328-aad0-ad219af300cc",
   "metadata": {},
   "outputs": [
    {
     "data": {
      "text/plain": [
       "club_slug_upon_transaction\n",
       "real-madrid-madrid                       89095\n",
       "sevilla-sevilla-1890                     80973\n",
       "real-betis-sevilla                       79597\n",
       "atletico-madrid-madrid                   74357\n",
       "villarreal-villarreal                    74219\n",
       "barcelona-barcelona                      67493\n",
       "athletic-club-bilbao                     66256\n",
       "osasuna-pamplona-irunea                  63721\n",
       "mallorca-palma-de-mallorca               60937\n",
       "real-sociedad-donostia-san-sebastian     59829\n",
       "celta-de-vigo-vigo                       59657\n",
       "rayo-vallecano-madrid                    59327\n",
       "valencia-valencia                        57020\n",
       "getafe-getafe-madrid                     55180\n",
       "espanyol-barcelona                       54783\n",
       "deportivo-alaves-vitoria-gasteiz         53073\n",
       "granada-granada                          49234\n",
       "cadiz-cadiz                              47982\n",
       "levante-valencia                         46221\n",
       "elche-elche                              44190\n",
       "girona-girona                            28871\n",
       "almeria-almeria                          28055\n",
       "las-palmas-las-palmas-de-gran-canaria    24959\n",
       "real-valladolid-valladolid               24795\n",
       "Name: count, dtype: int64"
      ]
     },
     "execution_count": 25,
     "metadata": {},
     "output_type": "execute_result"
    }
   ],
   "source": [
    "filtered_transactions_df['club_slug_upon_transaction'].value_counts()"
   ]
  },
  {
   "cell_type": "code",
   "execution_count": 26,
   "id": "86fa34b1-2f3d-4418-9569-99e90b6da9a0",
   "metadata": {},
   "outputs": [
    {
     "data": {
      "text/plain": [
       "' tests to check if it works well. VALIDATED all_rulli_transactions = all_transactions_df[all_transactions_df[\"player_slug\"] == \"geronimo-rulli\"]\\nall_rulli_transactions.shape\\n\\nfilt_rulli_transactions = filtered_transactions_df[filtered_transactions_df[\"player_slug\"] == \"geronimo-rulli\"]\\nfilt_rulli_transactions.shape\\n\\nall_jude_transactions = all_transactions_df[all_transactions_df[\"player_slug\"] == \"jude-bellingham\"]\\nall_jude_transactions.shape\\n\\nfilt_jude_transactions = filtered_transactions_df[filtered_transactions_df[\"player_slug\"] == \"jude-bellingham\"]\\nfilt_jude_transactions.shape\\n'"
      ]
     },
     "execution_count": 26,
     "metadata": {},
     "output_type": "execute_result"
    }
   ],
   "source": [
    "\"\"\" tests to check if it works well. VALIDATED all_rulli_transactions = all_transactions_df[all_transactions_df[\"player_slug\"] == \"geronimo-rulli\"]\n",
    "all_rulli_transactions.shape\n",
    "\n",
    "filt_rulli_transactions = filtered_transactions_df[filtered_transactions_df[\"player_slug\"] == \"geronimo-rulli\"]\n",
    "filt_rulli_transactions.shape\n",
    "\n",
    "all_jude_transactions = all_transactions_df[all_transactions_df[\"player_slug\"] == \"jude-bellingham\"]\n",
    "all_jude_transactions.shape\n",
    "\n",
    "filt_jude_transactions = filtered_transactions_df[filtered_transactions_df[\"player_slug\"] == \"jude-bellingham\"]\n",
    "filt_jude_transactions.shape\n",
    "\"\"\""
   ]
  },
  {
   "cell_type": "markdown",
   "id": "c50bb4ed-d0f4-419e-951b-e4848d4e3598",
   "metadata": {},
   "source": [
    "#### c. Deal with club_names different input during fetching (replaces slugs by names)"
   ]
  },
  {
   "cell_type": "code",
   "execution_count": 27,
   "id": "25dcf220-c195-419e-bac4-d18ad40d5490",
   "metadata": {},
   "outputs": [],
   "source": [
    "replacement_dict = dict(zip(list_of_team_slugs, list_of_team_names))\n",
    "\n",
    "filtered_transactions_df['present_team_name'] = filtered_transactions_df['present_team_name'].replace(replacement_dict)"
   ]
  },
  {
   "cell_type": "markdown",
   "id": "04091398-9165-434a-819f-609f2fefa0e3",
   "metadata": {},
   "source": [
    "#### d. Filter only on transactions where promoted or relegated were in La Liga"
   ]
  },
  {
   "cell_type": "code",
   "execution_count": 28,
   "id": "80a1ef7c-c28d-48cf-9000-7dd19b75cfd3",
   "metadata": {},
   "outputs": [
    {
     "data": {
      "text/html": [
       "<div>\n",
       "<style scoped>\n",
       "    .dataframe tbody tr th:only-of-type {\n",
       "        vertical-align: middle;\n",
       "    }\n",
       "\n",
       "    .dataframe tbody tr th {\n",
       "        vertical-align: top;\n",
       "    }\n",
       "\n",
       "    .dataframe thead th {\n",
       "        text-align: right;\n",
       "    }\n",
       "</style>\n",
       "<table border=\"1\" class=\"dataframe\">\n",
       "  <thead>\n",
       "    <tr style=\"text-align: right;\">\n",
       "      <th></th>\n",
       "      <th>team_name</th>\n",
       "      <th>team_slug</th>\n",
       "    </tr>\n",
       "  </thead>\n",
       "  <tbody>\n",
       "    <tr>\n",
       "      <th>0</th>\n",
       "      <td>Real Madrid CF</td>\n",
       "      <td>real-madrid-madrid</td>\n",
       "    </tr>\n",
       "    <tr>\n",
       "      <th>1</th>\n",
       "      <td>Girona FC</td>\n",
       "      <td>girona-girona</td>\n",
       "    </tr>\n",
       "    <tr>\n",
       "      <th>2</th>\n",
       "      <td>FC Barcelona</td>\n",
       "      <td>barcelona-barcelona</td>\n",
       "    </tr>\n",
       "    <tr>\n",
       "      <th>3</th>\n",
       "      <td>Club Atlético de Madrid</td>\n",
       "      <td>atletico-madrid-madrid</td>\n",
       "    </tr>\n",
       "    <tr>\n",
       "      <th>4</th>\n",
       "      <td>Athletic Club Bilbao</td>\n",
       "      <td>athletic-club-bilbao</td>\n",
       "    </tr>\n",
       "    <tr>\n",
       "      <th>5</th>\n",
       "      <td>Real Sociedad de Fútbol</td>\n",
       "      <td>real-sociedad-donostia-san-sebastian</td>\n",
       "    </tr>\n",
       "    <tr>\n",
       "      <th>6</th>\n",
       "      <td>Valencia CF</td>\n",
       "      <td>valencia-valencia</td>\n",
       "    </tr>\n",
       "    <tr>\n",
       "      <th>7</th>\n",
       "      <td>Real Betis Balompié</td>\n",
       "      <td>real-betis-sevilla</td>\n",
       "    </tr>\n",
       "    <tr>\n",
       "      <th>8</th>\n",
       "      <td>UD Las Palmas</td>\n",
       "      <td>las-palmas-las-palmas-de-gran-canaria</td>\n",
       "    </tr>\n",
       "    <tr>\n",
       "      <th>9</th>\n",
       "      <td>Getafe Club de Fútbol</td>\n",
       "      <td>getafe-getafe-madrid</td>\n",
       "    </tr>\n",
       "    <tr>\n",
       "      <th>10</th>\n",
       "      <td>Deportivo Alavés</td>\n",
       "      <td>deportivo-alaves-vitoria-gasteiz</td>\n",
       "    </tr>\n",
       "    <tr>\n",
       "      <th>11</th>\n",
       "      <td>CA Osasuna</td>\n",
       "      <td>osasuna-pamplona-irunea</td>\n",
       "    </tr>\n",
       "    <tr>\n",
       "      <th>12</th>\n",
       "      <td>Rayo Vallecano</td>\n",
       "      <td>rayo-vallecano-madrid</td>\n",
       "    </tr>\n",
       "    <tr>\n",
       "      <th>13</th>\n",
       "      <td>Villarreal CF</td>\n",
       "      <td>villarreal-villarreal</td>\n",
       "    </tr>\n",
       "    <tr>\n",
       "      <th>14</th>\n",
       "      <td>Sevilla FC</td>\n",
       "      <td>sevilla-sevilla-1890</td>\n",
       "    </tr>\n",
       "    <tr>\n",
       "      <th>15</th>\n",
       "      <td>Real Club Celta de Vigo</td>\n",
       "      <td>celta-de-vigo-vigo</td>\n",
       "    </tr>\n",
       "    <tr>\n",
       "      <th>16</th>\n",
       "      <td>Real Club Deportivo Mallorca</td>\n",
       "      <td>mallorca-palma-de-mallorca</td>\n",
       "    </tr>\n",
       "    <tr>\n",
       "      <th>17</th>\n",
       "      <td>Cádiz CF</td>\n",
       "      <td>cadiz-cadiz</td>\n",
       "    </tr>\n",
       "    <tr>\n",
       "      <th>18</th>\n",
       "      <td>Granada CF</td>\n",
       "      <td>granada-granada</td>\n",
       "    </tr>\n",
       "    <tr>\n",
       "      <th>19</th>\n",
       "      <td>UD Almería</td>\n",
       "      <td>almeria-almeria</td>\n",
       "    </tr>\n",
       "    <tr>\n",
       "      <th>20</th>\n",
       "      <td>Real Valladolid Club de Fútbol</td>\n",
       "      <td>real-valladolid-valladolid</td>\n",
       "    </tr>\n",
       "    <tr>\n",
       "      <th>21</th>\n",
       "      <td>Reial Club Deportiu Espanyol</td>\n",
       "      <td>espanyol-barcelona</td>\n",
       "    </tr>\n",
       "    <tr>\n",
       "      <th>22</th>\n",
       "      <td>Elche CF</td>\n",
       "      <td>elche-elche</td>\n",
       "    </tr>\n",
       "    <tr>\n",
       "      <th>23</th>\n",
       "      <td>Levante UD</td>\n",
       "      <td>levante-valencia</td>\n",
       "    </tr>\n",
       "  </tbody>\n",
       "</table>\n",
       "</div>"
      ],
      "text/plain": [
       "                         team_name                              team_slug\n",
       "0                   Real Madrid CF                     real-madrid-madrid\n",
       "1                        Girona FC                          girona-girona\n",
       "2                     FC Barcelona                    barcelona-barcelona\n",
       "3          Club Atlético de Madrid                 atletico-madrid-madrid\n",
       "4             Athletic Club Bilbao                   athletic-club-bilbao\n",
       "5          Real Sociedad de Fútbol   real-sociedad-donostia-san-sebastian\n",
       "6                      Valencia CF                      valencia-valencia\n",
       "7              Real Betis Balompié                     real-betis-sevilla\n",
       "8                    UD Las Palmas  las-palmas-las-palmas-de-gran-canaria\n",
       "9            Getafe Club de Fútbol                   getafe-getafe-madrid\n",
       "10                Deportivo Alavés       deportivo-alaves-vitoria-gasteiz\n",
       "11                      CA Osasuna                osasuna-pamplona-irunea\n",
       "12                  Rayo Vallecano                  rayo-vallecano-madrid\n",
       "13                   Villarreal CF                  villarreal-villarreal\n",
       "14                      Sevilla FC                   sevilla-sevilla-1890\n",
       "15         Real Club Celta de Vigo                     celta-de-vigo-vigo\n",
       "16    Real Club Deportivo Mallorca             mallorca-palma-de-mallorca\n",
       "17                        Cádiz CF                            cadiz-cadiz\n",
       "18                      Granada CF                        granada-granada\n",
       "19                      UD Almería                        almeria-almeria\n",
       "20  Real Valladolid Club de Fútbol             real-valladolid-valladolid\n",
       "21    Reial Club Deportiu Espanyol                     espanyol-barcelona\n",
       "22                        Elche CF                            elche-elche\n",
       "23                      Levante UD                       levante-valencia"
      ]
     },
     "execution_count": 28,
     "metadata": {},
     "output_type": "execute_result"
    }
   ],
   "source": [
    "clubs_df = pd.DataFrame({'team_name': list_of_team_names, 'team_slug': list_of_team_slugs})\n",
    "clubs_df"
   ]
  },
  {
   "cell_type": "code",
   "execution_count": 29,
   "id": "d5e1599a-d921-4802-9a02-ee40e312c818",
   "metadata": {},
   "outputs": [
    {
     "data": {
      "text/html": [
       "<div>\n",
       "<style scoped>\n",
       "    .dataframe tbody tr th:only-of-type {\n",
       "        vertical-align: middle;\n",
       "    }\n",
       "\n",
       "    .dataframe tbody tr th {\n",
       "        vertical-align: top;\n",
       "    }\n",
       "\n",
       "    .dataframe thead th {\n",
       "        text-align: right;\n",
       "    }\n",
       "</style>\n",
       "<table border=\"1\" class=\"dataframe\">\n",
       "  <thead>\n",
       "    <tr style=\"text-align: right;\">\n",
       "      <th></th>\n",
       "      <th>team_name</th>\n",
       "      <th>team_slug</th>\n",
       "      <th>2021_22_la_liga</th>\n",
       "      <th>2022_23_la_liga</th>\n",
       "      <th>2023_24_la_liga</th>\n",
       "      <th>2021_22_uefa</th>\n",
       "      <th>2022_23_uefa</th>\n",
       "      <th>2023_24_uefa</th>\n",
       "    </tr>\n",
       "  </thead>\n",
       "  <tbody>\n",
       "    <tr>\n",
       "      <th>0</th>\n",
       "      <td>Real Madrid CF</td>\n",
       "      <td>real-madrid-madrid</td>\n",
       "      <td>True</td>\n",
       "      <td>True</td>\n",
       "      <td>True</td>\n",
       "      <td>True</td>\n",
       "      <td>True</td>\n",
       "      <td>True</td>\n",
       "    </tr>\n",
       "    <tr>\n",
       "      <th>1</th>\n",
       "      <td>Girona FC</td>\n",
       "      <td>girona-girona</td>\n",
       "      <td>False</td>\n",
       "      <td>True</td>\n",
       "      <td>True</td>\n",
       "      <td>False</td>\n",
       "      <td>False</td>\n",
       "      <td>False</td>\n",
       "    </tr>\n",
       "    <tr>\n",
       "      <th>2</th>\n",
       "      <td>FC Barcelona</td>\n",
       "      <td>barcelona-barcelona</td>\n",
       "      <td>True</td>\n",
       "      <td>True</td>\n",
       "      <td>True</td>\n",
       "      <td>True</td>\n",
       "      <td>True</td>\n",
       "      <td>True</td>\n",
       "    </tr>\n",
       "    <tr>\n",
       "      <th>3</th>\n",
       "      <td>Club Atlético de Madrid</td>\n",
       "      <td>atletico-madrid-madrid</td>\n",
       "      <td>True</td>\n",
       "      <td>True</td>\n",
       "      <td>True</td>\n",
       "      <td>True</td>\n",
       "      <td>True</td>\n",
       "      <td>True</td>\n",
       "    </tr>\n",
       "    <tr>\n",
       "      <th>4</th>\n",
       "      <td>Athletic Club Bilbao</td>\n",
       "      <td>athletic-club-bilbao</td>\n",
       "      <td>True</td>\n",
       "      <td>True</td>\n",
       "      <td>True</td>\n",
       "      <td>False</td>\n",
       "      <td>False</td>\n",
       "      <td>False</td>\n",
       "    </tr>\n",
       "    <tr>\n",
       "      <th>5</th>\n",
       "      <td>Real Sociedad de Fútbol</td>\n",
       "      <td>real-sociedad-donostia-san-sebastian</td>\n",
       "      <td>True</td>\n",
       "      <td>True</td>\n",
       "      <td>True</td>\n",
       "      <td>True</td>\n",
       "      <td>True</td>\n",
       "      <td>True</td>\n",
       "    </tr>\n",
       "    <tr>\n",
       "      <th>6</th>\n",
       "      <td>Valencia CF</td>\n",
       "      <td>valencia-valencia</td>\n",
       "      <td>True</td>\n",
       "      <td>True</td>\n",
       "      <td>True</td>\n",
       "      <td>False</td>\n",
       "      <td>False</td>\n",
       "      <td>False</td>\n",
       "    </tr>\n",
       "    <tr>\n",
       "      <th>7</th>\n",
       "      <td>Real Betis Balompié</td>\n",
       "      <td>real-betis-sevilla</td>\n",
       "      <td>True</td>\n",
       "      <td>True</td>\n",
       "      <td>True</td>\n",
       "      <td>True</td>\n",
       "      <td>True</td>\n",
       "      <td>True</td>\n",
       "    </tr>\n",
       "    <tr>\n",
       "      <th>8</th>\n",
       "      <td>UD Las Palmas</td>\n",
       "      <td>las-palmas-las-palmas-de-gran-canaria</td>\n",
       "      <td>True</td>\n",
       "      <td>False</td>\n",
       "      <td>True</td>\n",
       "      <td>False</td>\n",
       "      <td>False</td>\n",
       "      <td>False</td>\n",
       "    </tr>\n",
       "    <tr>\n",
       "      <th>9</th>\n",
       "      <td>Getafe Club de Fútbol</td>\n",
       "      <td>getafe-getafe-madrid</td>\n",
       "      <td>True</td>\n",
       "      <td>True</td>\n",
       "      <td>True</td>\n",
       "      <td>False</td>\n",
       "      <td>False</td>\n",
       "      <td>False</td>\n",
       "    </tr>\n",
       "    <tr>\n",
       "      <th>10</th>\n",
       "      <td>Deportivo Alavés</td>\n",
       "      <td>deportivo-alaves-vitoria-gasteiz</td>\n",
       "      <td>True</td>\n",
       "      <td>False</td>\n",
       "      <td>True</td>\n",
       "      <td>False</td>\n",
       "      <td>False</td>\n",
       "      <td>False</td>\n",
       "    </tr>\n",
       "    <tr>\n",
       "      <th>11</th>\n",
       "      <td>CA Osasuna</td>\n",
       "      <td>osasuna-pamplona-irunea</td>\n",
       "      <td>True</td>\n",
       "      <td>True</td>\n",
       "      <td>True</td>\n",
       "      <td>False</td>\n",
       "      <td>False</td>\n",
       "      <td>True</td>\n",
       "    </tr>\n",
       "    <tr>\n",
       "      <th>12</th>\n",
       "      <td>Rayo Vallecano</td>\n",
       "      <td>rayo-vallecano-madrid</td>\n",
       "      <td>True</td>\n",
       "      <td>True</td>\n",
       "      <td>True</td>\n",
       "      <td>False</td>\n",
       "      <td>False</td>\n",
       "      <td>False</td>\n",
       "    </tr>\n",
       "    <tr>\n",
       "      <th>13</th>\n",
       "      <td>Villarreal CF</td>\n",
       "      <td>villarreal-villarreal</td>\n",
       "      <td>True</td>\n",
       "      <td>True</td>\n",
       "      <td>True</td>\n",
       "      <td>True</td>\n",
       "      <td>True</td>\n",
       "      <td>True</td>\n",
       "    </tr>\n",
       "    <tr>\n",
       "      <th>14</th>\n",
       "      <td>Sevilla FC</td>\n",
       "      <td>sevilla-sevilla-1890</td>\n",
       "      <td>True</td>\n",
       "      <td>True</td>\n",
       "      <td>True</td>\n",
       "      <td>True</td>\n",
       "      <td>True</td>\n",
       "      <td>True</td>\n",
       "    </tr>\n",
       "    <tr>\n",
       "      <th>15</th>\n",
       "      <td>Real Club Celta de Vigo</td>\n",
       "      <td>celta-de-vigo-vigo</td>\n",
       "      <td>True</td>\n",
       "      <td>True</td>\n",
       "      <td>True</td>\n",
       "      <td>False</td>\n",
       "      <td>False</td>\n",
       "      <td>False</td>\n",
       "    </tr>\n",
       "    <tr>\n",
       "      <th>16</th>\n",
       "      <td>Real Club Deportivo Mallorca</td>\n",
       "      <td>mallorca-palma-de-mallorca</td>\n",
       "      <td>True</td>\n",
       "      <td>True</td>\n",
       "      <td>True</td>\n",
       "      <td>False</td>\n",
       "      <td>False</td>\n",
       "      <td>False</td>\n",
       "    </tr>\n",
       "    <tr>\n",
       "      <th>17</th>\n",
       "      <td>Cádiz CF</td>\n",
       "      <td>cadiz-cadiz</td>\n",
       "      <td>True</td>\n",
       "      <td>True</td>\n",
       "      <td>True</td>\n",
       "      <td>False</td>\n",
       "      <td>False</td>\n",
       "      <td>False</td>\n",
       "    </tr>\n",
       "    <tr>\n",
       "      <th>18</th>\n",
       "      <td>Granada CF</td>\n",
       "      <td>granada-granada</td>\n",
       "      <td>True</td>\n",
       "      <td>False</td>\n",
       "      <td>True</td>\n",
       "      <td>False</td>\n",
       "      <td>False</td>\n",
       "      <td>False</td>\n",
       "    </tr>\n",
       "    <tr>\n",
       "      <th>19</th>\n",
       "      <td>UD Almería</td>\n",
       "      <td>almeria-almeria</td>\n",
       "      <td>False</td>\n",
       "      <td>True</td>\n",
       "      <td>True</td>\n",
       "      <td>False</td>\n",
       "      <td>False</td>\n",
       "      <td>False</td>\n",
       "    </tr>\n",
       "    <tr>\n",
       "      <th>20</th>\n",
       "      <td>Real Valladolid Club de Fútbol</td>\n",
       "      <td>real-valladolid-valladolid</td>\n",
       "      <td>False</td>\n",
       "      <td>True</td>\n",
       "      <td>False</td>\n",
       "      <td>False</td>\n",
       "      <td>False</td>\n",
       "      <td>False</td>\n",
       "    </tr>\n",
       "    <tr>\n",
       "      <th>21</th>\n",
       "      <td>Reial Club Deportiu Espanyol</td>\n",
       "      <td>espanyol-barcelona</td>\n",
       "      <td>True</td>\n",
       "      <td>True</td>\n",
       "      <td>False</td>\n",
       "      <td>False</td>\n",
       "      <td>False</td>\n",
       "      <td>False</td>\n",
       "    </tr>\n",
       "    <tr>\n",
       "      <th>22</th>\n",
       "      <td>Elche CF</td>\n",
       "      <td>elche-elche</td>\n",
       "      <td>True</td>\n",
       "      <td>True</td>\n",
       "      <td>False</td>\n",
       "      <td>False</td>\n",
       "      <td>False</td>\n",
       "      <td>False</td>\n",
       "    </tr>\n",
       "    <tr>\n",
       "      <th>23</th>\n",
       "      <td>Levante UD</td>\n",
       "      <td>levante-valencia</td>\n",
       "      <td>True</td>\n",
       "      <td>False</td>\n",
       "      <td>False</td>\n",
       "      <td>False</td>\n",
       "      <td>False</td>\n",
       "      <td>False</td>\n",
       "    </tr>\n",
       "  </tbody>\n",
       "</table>\n",
       "</div>"
      ],
      "text/plain": [
       "                         team_name                              team_slug  \\\n",
       "0                   Real Madrid CF                     real-madrid-madrid   \n",
       "1                        Girona FC                          girona-girona   \n",
       "2                     FC Barcelona                    barcelona-barcelona   \n",
       "3          Club Atlético de Madrid                 atletico-madrid-madrid   \n",
       "4             Athletic Club Bilbao                   athletic-club-bilbao   \n",
       "5          Real Sociedad de Fútbol   real-sociedad-donostia-san-sebastian   \n",
       "6                      Valencia CF                      valencia-valencia   \n",
       "7              Real Betis Balompié                     real-betis-sevilla   \n",
       "8                    UD Las Palmas  las-palmas-las-palmas-de-gran-canaria   \n",
       "9            Getafe Club de Fútbol                   getafe-getafe-madrid   \n",
       "10                Deportivo Alavés       deportivo-alaves-vitoria-gasteiz   \n",
       "11                      CA Osasuna                osasuna-pamplona-irunea   \n",
       "12                  Rayo Vallecano                  rayo-vallecano-madrid   \n",
       "13                   Villarreal CF                  villarreal-villarreal   \n",
       "14                      Sevilla FC                   sevilla-sevilla-1890   \n",
       "15         Real Club Celta de Vigo                     celta-de-vigo-vigo   \n",
       "16    Real Club Deportivo Mallorca             mallorca-palma-de-mallorca   \n",
       "17                        Cádiz CF                            cadiz-cadiz   \n",
       "18                      Granada CF                        granada-granada   \n",
       "19                      UD Almería                        almeria-almeria   \n",
       "20  Real Valladolid Club de Fútbol             real-valladolid-valladolid   \n",
       "21    Reial Club Deportiu Espanyol                     espanyol-barcelona   \n",
       "22                        Elche CF                            elche-elche   \n",
       "23                      Levante UD                       levante-valencia   \n",
       "\n",
       "    2021_22_la_liga  2022_23_la_liga  2023_24_la_liga  2021_22_uefa  \\\n",
       "0              True             True             True          True   \n",
       "1             False             True             True         False   \n",
       "2              True             True             True          True   \n",
       "3              True             True             True          True   \n",
       "4              True             True             True         False   \n",
       "5              True             True             True          True   \n",
       "6              True             True             True         False   \n",
       "7              True             True             True          True   \n",
       "8              True            False             True         False   \n",
       "9              True             True             True         False   \n",
       "10             True            False             True         False   \n",
       "11             True             True             True         False   \n",
       "12             True             True             True         False   \n",
       "13             True             True             True          True   \n",
       "14             True             True             True          True   \n",
       "15             True             True             True         False   \n",
       "16             True             True             True         False   \n",
       "17             True             True             True         False   \n",
       "18             True            False             True         False   \n",
       "19            False             True             True         False   \n",
       "20            False             True            False         False   \n",
       "21             True             True            False         False   \n",
       "22             True             True            False         False   \n",
       "23             True            False            False         False   \n",
       "\n",
       "    2022_23_uefa  2023_24_uefa  \n",
       "0           True          True  \n",
       "1          False         False  \n",
       "2           True          True  \n",
       "3           True          True  \n",
       "4          False         False  \n",
       "5           True          True  \n",
       "6          False         False  \n",
       "7           True          True  \n",
       "8          False         False  \n",
       "9          False         False  \n",
       "10         False         False  \n",
       "11         False          True  \n",
       "12         False         False  \n",
       "13          True          True  \n",
       "14          True          True  \n",
       "15         False         False  \n",
       "16         False         False  \n",
       "17         False         False  \n",
       "18         False         False  \n",
       "19         False         False  \n",
       "20         False         False  \n",
       "21         False         False  \n",
       "22         False         False  \n",
       "23         False         False  "
      ]
     },
     "execution_count": 29,
     "metadata": {},
     "output_type": "execute_result"
    }
   ],
   "source": [
    "##clubs_df.to_csv(\"clubs_by_season.csv\", index=False)\n",
    "clubs_by_season_df = pd.read_csv('clubs_by_season.csv', sep=';')\n",
    "clubs_by_season_df "
   ]
  },
  {
   "cell_type": "code",
   "execution_count": 30,
   "id": "dc34aec3-5037-4f1a-938b-5318d86ef0cf",
   "metadata": {},
   "outputs": [
    {
     "data": {
      "text/plain": [
       "team_name          object\n",
       "team_slug          object\n",
       "2021_22_la_liga      bool\n",
       "2022_23_la_liga      bool\n",
       "2023_24_la_liga      bool\n",
       "2021_22_uefa         bool\n",
       "2022_23_uefa         bool\n",
       "2023_24_uefa         bool\n",
       "dtype: object"
      ]
     },
     "execution_count": 30,
     "metadata": {},
     "output_type": "execute_result"
    }
   ],
   "source": [
    "clubs_by_season_df['2021_22_la_liga'] = clubs_by_season_df['2021_22_la_liga'].astype(bool)\n",
    "clubs_by_season_df['2022_23_la_liga'] = clubs_by_season_df['2022_23_la_liga'].astype(bool)\n",
    "clubs_by_season_df['2023_24_la_liga'] = clubs_by_season_df['2023_24_la_liga'].astype(bool)\n",
    "clubs_by_season_df['2021_22_uefa'] = clubs_by_season_df['2021_22_uefa'].astype(bool)\n",
    "clubs_by_season_df['2022_23_uefa'] = clubs_by_season_df['2022_23_uefa'].astype(bool)\n",
    "clubs_by_season_df['2023_24_uefa'] = clubs_by_season_df['2023_24_uefa'].astype(bool)\n",
    "clubs_by_season_df.dtypes"
   ]
  },
  {
   "cell_type": "code",
   "execution_count": 31,
   "id": "49375dd9-7439-4e75-a2f1-f062c60cd1c7",
   "metadata": {},
   "outputs": [],
   "source": [
    "# Droping the transactions of clubs not in la liga for a specific season (not yet promoted or relegated)\n",
    "\n",
    "\n",
    "#Create a copy of the filtered_transactions_df to avoid overwriting it\n",
    "la_liga_transactions_df = filtered_transactions_df.copy()\n",
    "\n",
    "# Define the list of seasons\n",
    "\n",
    "seasons = [\n",
    "    {'name': '2021_22_la_liga', 'start_date': '2021-09-01', 'end_date': '2022-06-30'},\n",
    "    {'name': '2022_23_la_liga', 'start_date': '2022-09-01', 'end_date': '2023-06-30'},\n",
    "    {'name': '2023_24_la_liga', 'start_date': '2023-09-01', 'end_date': '2024-06-30'}\n",
    "]\n",
    "\n",
    "# Merge la_liga_transactions_df with clubs_by_season based on both club_slug_upon_transaction and team_slug\n",
    "la_liga_transactions_df = pd.merge(\n",
    "        la_liga_transactions_df,\n",
    "        clubs_by_season_df,\n",
    "        left_on=['club_slug_upon_transaction'],\n",
    "        right_on=['team_slug'],\n",
    "        how='inner'\n",
    "    )\n",
    "\n",
    "# Loop over each season\n",
    "for season in seasons:\n",
    "    # Filter clubs_out_season based on the current season and team slug\n",
    "    season_column = season['name']\n",
    "    clubs_out_season = clubs_by_season_df[clubs_by_season_df[season_column] == False]['team_slug']\n",
    "\n",
    "    # Define the date range for the current season\n",
    "    start_date = season['start_date']\n",
    "    end_date = season['end_date']\n",
    "\n",
    "    # Drop transactions within the date range and matching clubs_out_season\n",
    "    la_liga_transactions_df.drop(\n",
    "        la_liga_transactions_df[\n",
    "            (la_liga_transactions_df['club_slug_upon_transaction'].isin(clubs_out_season)) &\n",
    "            (la_liga_transactions_df['transaction_date'].between(start_date, end_date))\n",
    "        ].index,\n",
    "        inplace=True\n",
    "    )"
   ]
  },
  {
   "cell_type": "code",
   "execution_count": 32,
   "id": "c3c6aa81-ac4e-4dd2-a411-004824cb05f1",
   "metadata": {},
   "outputs": [
    {
     "data": {
      "text/plain": [
       "(1349824, 36)"
      ]
     },
     "execution_count": 32,
     "metadata": {},
     "output_type": "execute_result"
    }
   ],
   "source": [
    "filtered_transactions_df.shape"
   ]
  },
  {
   "cell_type": "code",
   "execution_count": 33,
   "id": "ad75db75-d3c0-45ad-9120-e5a86b3c60f1",
   "metadata": {},
   "outputs": [
    {
     "data": {
      "text/plain": [
       "(1261014, 44)"
      ]
     },
     "execution_count": 33,
     "metadata": {},
     "output_type": "execute_result"
    }
   ],
   "source": [
    "la_liga_transactions_df.shape"
   ]
  },
  {
   "cell_type": "code",
   "execution_count": 34,
   "id": "f70a1362-af71-4be2-865f-8b1764bcb484",
   "metadata": {},
   "outputs": [
    {
     "data": {
      "text/html": [
       "<div>\n",
       "<style scoped>\n",
       "    .dataframe tbody tr th:only-of-type {\n",
       "        vertical-align: middle;\n",
       "    }\n",
       "\n",
       "    .dataframe tbody tr th {\n",
       "        vertical-align: top;\n",
       "    }\n",
       "\n",
       "    .dataframe thead th {\n",
       "        text-align: right;\n",
       "    }\n",
       "</style>\n",
       "<table border=\"1\" class=\"dataframe\">\n",
       "  <thead>\n",
       "    <tr style=\"text-align: right;\">\n",
       "      <th></th>\n",
       "      <th>present_team_name</th>\n",
       "      <th>card_id</th>\n",
       "      <th>asset_id</th>\n",
       "      <th>card_name</th>\n",
       "      <th>season_year</th>\n",
       "      <th>card_slug</th>\n",
       "      <th>rarity</th>\n",
       "      <th>card_creation_date</th>\n",
       "      <th>grade</th>\n",
       "      <th>power</th>\n",
       "      <th>...</th>\n",
       "      <th>u23_until</th>\n",
       "      <th>club_slug_upon_transaction</th>\n",
       "      <th>team_name</th>\n",
       "      <th>team_slug</th>\n",
       "      <th>2021_22_la_liga</th>\n",
       "      <th>2022_23_la_liga</th>\n",
       "      <th>2023_24_la_liga</th>\n",
       "      <th>2021_22_uefa</th>\n",
       "      <th>2022_23_uefa</th>\n",
       "      <th>2023_24_uefa</th>\n",
       "    </tr>\n",
       "  </thead>\n",
       "  <tbody>\n",
       "    <tr>\n",
       "      <th>0</th>\n",
       "      <td>Real Madrid CF</td>\n",
       "      <td>Card:00035848-b60d-4999-832c-e4dd8e939007</td>\n",
       "      <td>0x040004752c83837b25107500c71efa485aafb6cf1b82...</td>\n",
       "      <td>Nacho 2021-22 • Limited 218/1000</td>\n",
       "      <td>2021</td>\n",
       "      <td>jose-ignacio-fernandez-iglesias-2021-limited-218</td>\n",
       "      <td>limited</td>\n",
       "      <td>2021-11-25 03:40:39+00:00</td>\n",
       "      <td>7</td>\n",
       "      <td>1.045</td>\n",
       "      <td>...</td>\n",
       "      <td>NaN</td>\n",
       "      <td>real-madrid-madrid</td>\n",
       "      <td>Real Madrid CF</td>\n",
       "      <td>real-madrid-madrid</td>\n",
       "      <td>True</td>\n",
       "      <td>True</td>\n",
       "      <td>True</td>\n",
       "      <td>True</td>\n",
       "      <td>True</td>\n",
       "      <td>True</td>\n",
       "    </tr>\n",
       "    <tr>\n",
       "      <th>1</th>\n",
       "      <td>Real Madrid CF</td>\n",
       "      <td>Card:01058883-d9bc-4fe7-953e-1ac82197e006</td>\n",
       "      <td>0x040016f093c032839408074366792f3f16f388d20a20...</td>\n",
       "      <td>Nacho 2021-22 • Limited 488/1000</td>\n",
       "      <td>2021</td>\n",
       "      <td>jose-ignacio-fernandez-iglesias-2021-limited-488</td>\n",
       "      <td>limited</td>\n",
       "      <td>2022-05-31 08:58:22+00:00</td>\n",
       "      <td>13</td>\n",
       "      <td>1.075</td>\n",
       "      <td>...</td>\n",
       "      <td>NaN</td>\n",
       "      <td>real-madrid-madrid</td>\n",
       "      <td>Real Madrid CF</td>\n",
       "      <td>real-madrid-madrid</td>\n",
       "      <td>True</td>\n",
       "      <td>True</td>\n",
       "      <td>True</td>\n",
       "      <td>True</td>\n",
       "      <td>True</td>\n",
       "      <td>True</td>\n",
       "    </tr>\n",
       "    <tr>\n",
       "      <th>2</th>\n",
       "      <td>Real Madrid CF</td>\n",
       "      <td>Card:01058883-d9bc-4fe7-953e-1ac82197e006</td>\n",
       "      <td>0x040016f093c032839408074366792f3f16f388d20a20...</td>\n",
       "      <td>Nacho 2021-22 • Limited 488/1000</td>\n",
       "      <td>2021</td>\n",
       "      <td>jose-ignacio-fernandez-iglesias-2021-limited-488</td>\n",
       "      <td>limited</td>\n",
       "      <td>2022-05-31 08:58:22+00:00</td>\n",
       "      <td>13</td>\n",
       "      <td>1.075</td>\n",
       "      <td>...</td>\n",
       "      <td>NaN</td>\n",
       "      <td>real-madrid-madrid</td>\n",
       "      <td>Real Madrid CF</td>\n",
       "      <td>real-madrid-madrid</td>\n",
       "      <td>True</td>\n",
       "      <td>True</td>\n",
       "      <td>True</td>\n",
       "      <td>True</td>\n",
       "      <td>True</td>\n",
       "      <td>True</td>\n",
       "    </tr>\n",
       "    <tr>\n",
       "      <th>3</th>\n",
       "      <td>Real Madrid CF</td>\n",
       "      <td>Card:01058883-d9bc-4fe7-953e-1ac82197e006</td>\n",
       "      <td>0x040016f093c032839408074366792f3f16f388d20a20...</td>\n",
       "      <td>Nacho 2021-22 • Limited 488/1000</td>\n",
       "      <td>2021</td>\n",
       "      <td>jose-ignacio-fernandez-iglesias-2021-limited-488</td>\n",
       "      <td>limited</td>\n",
       "      <td>2022-05-31 08:58:22+00:00</td>\n",
       "      <td>13</td>\n",
       "      <td>1.075</td>\n",
       "      <td>...</td>\n",
       "      <td>NaN</td>\n",
       "      <td>real-madrid-madrid</td>\n",
       "      <td>Real Madrid CF</td>\n",
       "      <td>real-madrid-madrid</td>\n",
       "      <td>True</td>\n",
       "      <td>True</td>\n",
       "      <td>True</td>\n",
       "      <td>True</td>\n",
       "      <td>True</td>\n",
       "      <td>True</td>\n",
       "    </tr>\n",
       "    <tr>\n",
       "      <th>4</th>\n",
       "      <td>Real Madrid CF</td>\n",
       "      <td>Card:01058883-d9bc-4fe7-953e-1ac82197e006</td>\n",
       "      <td>0x040016f093c032839408074366792f3f16f388d20a20...</td>\n",
       "      <td>Nacho 2021-22 • Limited 488/1000</td>\n",
       "      <td>2021</td>\n",
       "      <td>jose-ignacio-fernandez-iglesias-2021-limited-488</td>\n",
       "      <td>limited</td>\n",
       "      <td>2022-05-31 08:58:22+00:00</td>\n",
       "      <td>13</td>\n",
       "      <td>1.075</td>\n",
       "      <td>...</td>\n",
       "      <td>NaN</td>\n",
       "      <td>real-madrid-madrid</td>\n",
       "      <td>Real Madrid CF</td>\n",
       "      <td>real-madrid-madrid</td>\n",
       "      <td>True</td>\n",
       "      <td>True</td>\n",
       "      <td>True</td>\n",
       "      <td>True</td>\n",
       "      <td>True</td>\n",
       "      <td>True</td>\n",
       "    </tr>\n",
       "  </tbody>\n",
       "</table>\n",
       "<p>5 rows × 44 columns</p>\n",
       "</div>"
      ],
      "text/plain": [
       "  present_team_name                                    card_id  \\\n",
       "0    Real Madrid CF  Card:00035848-b60d-4999-832c-e4dd8e939007   \n",
       "1    Real Madrid CF  Card:01058883-d9bc-4fe7-953e-1ac82197e006   \n",
       "2    Real Madrid CF  Card:01058883-d9bc-4fe7-953e-1ac82197e006   \n",
       "3    Real Madrid CF  Card:01058883-d9bc-4fe7-953e-1ac82197e006   \n",
       "4    Real Madrid CF  Card:01058883-d9bc-4fe7-953e-1ac82197e006   \n",
       "\n",
       "                                            asset_id  \\\n",
       "0  0x040004752c83837b25107500c71efa485aafb6cf1b82...   \n",
       "1  0x040016f093c032839408074366792f3f16f388d20a20...   \n",
       "2  0x040016f093c032839408074366792f3f16f388d20a20...   \n",
       "3  0x040016f093c032839408074366792f3f16f388d20a20...   \n",
       "4  0x040016f093c032839408074366792f3f16f388d20a20...   \n",
       "\n",
       "                          card_name  season_year  \\\n",
       "0  Nacho 2021-22 • Limited 218/1000         2021   \n",
       "1  Nacho 2021-22 • Limited 488/1000         2021   \n",
       "2  Nacho 2021-22 • Limited 488/1000         2021   \n",
       "3  Nacho 2021-22 • Limited 488/1000         2021   \n",
       "4  Nacho 2021-22 • Limited 488/1000         2021   \n",
       "\n",
       "                                          card_slug   rarity  \\\n",
       "0  jose-ignacio-fernandez-iglesias-2021-limited-218  limited   \n",
       "1  jose-ignacio-fernandez-iglesias-2021-limited-488  limited   \n",
       "2  jose-ignacio-fernandez-iglesias-2021-limited-488  limited   \n",
       "3  jose-ignacio-fernandez-iglesias-2021-limited-488  limited   \n",
       "4  jose-ignacio-fernandez-iglesias-2021-limited-488  limited   \n",
       "\n",
       "         card_creation_date  grade  power  ...  u23_until  \\\n",
       "0 2021-11-25 03:40:39+00:00      7  1.045  ...        NaN   \n",
       "1 2022-05-31 08:58:22+00:00     13  1.075  ...        NaN   \n",
       "2 2022-05-31 08:58:22+00:00     13  1.075  ...        NaN   \n",
       "3 2022-05-31 08:58:22+00:00     13  1.075  ...        NaN   \n",
       "4 2022-05-31 08:58:22+00:00     13  1.075  ...        NaN   \n",
       "\n",
       "   club_slug_upon_transaction       team_name           team_slug  \\\n",
       "0          real-madrid-madrid  Real Madrid CF  real-madrid-madrid   \n",
       "1          real-madrid-madrid  Real Madrid CF  real-madrid-madrid   \n",
       "2          real-madrid-madrid  Real Madrid CF  real-madrid-madrid   \n",
       "3          real-madrid-madrid  Real Madrid CF  real-madrid-madrid   \n",
       "4          real-madrid-madrid  Real Madrid CF  real-madrid-madrid   \n",
       "\n",
       "  2021_22_la_liga 2022_23_la_liga  2023_24_la_liga  2021_22_uefa 2022_23_uefa  \\\n",
       "0            True            True             True          True         True   \n",
       "1            True            True             True          True         True   \n",
       "2            True            True             True          True         True   \n",
       "3            True            True             True          True         True   \n",
       "4            True            True             True          True         True   \n",
       "\n",
       "  2023_24_uefa  \n",
       "0         True  \n",
       "1         True  \n",
       "2         True  \n",
       "3         True  \n",
       "4         True  \n",
       "\n",
       "[5 rows x 44 columns]"
      ]
     },
     "execution_count": 34,
     "metadata": {},
     "output_type": "execute_result"
    }
   ],
   "source": [
    "la_liga_transactions_df.head()"
   ]
  },
  {
   "cell_type": "code",
   "execution_count": 35,
   "id": "cde654c7-8888-4852-8541-b3669f873ae8",
   "metadata": {},
   "outputs": [
    {
     "data": {
      "text/plain": [
       "\" Used for checking drops magnitudes\\n\\n# Filtered clubs\\nconcerned_clubs = clubs_by_season_df[clubs_by_season_df['2023_24_la_liga'] == False]['team_slug']\\n\\n# Filtered transactions per quarter\\nfiltered_transactions_per_quarter = filtered_transactions_df[\\n    filtered_transactions_df['club_slug_upon_transaction'].isin(concerned_clubs)\\n].groupby(['transaction_date_year','transaction_date_quarter']).count()\\n\\n# Display the transactions per quarter\\nfiltered_transactions_per_quarter\\n\\n\""
      ]
     },
     "execution_count": 35,
     "metadata": {},
     "output_type": "execute_result"
    }
   ],
   "source": [
    "\"\"\" Used for checking drops magnitudes\n",
    "\n",
    "# Filtered clubs\n",
    "concerned_clubs = clubs_by_season_df[clubs_by_season_df['2023_24_la_liga'] == False]['team_slug']\n",
    "\n",
    "# Filtered transactions per quarter\n",
    "filtered_transactions_per_quarter = filtered_transactions_df[\n",
    "    filtered_transactions_df['club_slug_upon_transaction'].isin(concerned_clubs)\n",
    "].groupby(['transaction_date_year','transaction_date_quarter']).count()\n",
    "\n",
    "# Display the transactions per quarter\n",
    "filtered_transactions_per_quarter\n",
    "\n",
    "\"\"\""
   ]
  },
  {
   "cell_type": "code",
   "execution_count": 36,
   "id": "a871e1a6-738a-4469-8d08-c81cc000e5b4",
   "metadata": {},
   "outputs": [],
   "source": [
    "la_liga_transactions_df['u23_until'] = la_liga_transactions_df['u23_until'].fillna('NA')"
   ]
  },
  {
   "cell_type": "code",
   "execution_count": 37,
   "id": "0727b749-2d44-4286-81a8-0ae562056c92",
   "metadata": {},
   "outputs": [],
   "source": [
    "#la_liga_transactions_df.to_csv('la_liga_filtered_cards_transactions.csv', index=False)"
   ]
  },
  {
   "cell_type": "markdown",
   "id": "f058fa50-6a40-42b8-9030-db6033af70e7",
   "metadata": {},
   "source": [
    "#### f. Handling potential duplicates: "
   ]
  },
  {
   "cell_type": "code",
   "execution_count": 95,
   "id": "008ed0e0-4845-4029-a41f-71ab77ded0c9",
   "metadata": {},
   "outputs": [
    {
     "data": {
      "text/plain": [
       "present_team_name               0\n",
       "card_id                         0\n",
       "asset_id                        0\n",
       "card_name                       0\n",
       "season_year                     0\n",
       "card_slug                       0\n",
       "rarity                          0\n",
       "card_creation_date              0\n",
       "grade                           0\n",
       "power                           0\n",
       "xp                              0\n",
       "serial_number                   0\n",
       "shirt_number                    0\n",
       "special_edition                 0\n",
       "transaction_date                0\n",
       "transaction_type                0\n",
       "price_wei                       0\n",
       "price_eur                       0\n",
       "user_id                         0\n",
       "user_slug                       0\n",
       "player_slug                     0\n",
       "card_creation_date_year         0\n",
       "card_creation_date_month        0\n",
       "card_creation_date_week         0\n",
       "card_creation_date_dayofyear    0\n",
       "card_creation_date_season       0\n",
       "transaction_date_year           0\n",
       "transaction_date_month          0\n",
       "transaction_date_week           0\n",
       "transaction_date_dayofyear      0\n",
       "transaction_date_season         0\n",
       "position                        0\n",
       "age                             0\n",
       "u23_eligible                    0\n",
       "u23_until                       0\n",
       "club_slug_upon_transaction      0\n",
       "team_name                       0\n",
       "team_slug                       0\n",
       "2021_22_la_liga                 0\n",
       "2022_23_la_liga                 0\n",
       "2023_24_la_liga                 0\n",
       "2021_22_uefa                    0\n",
       "2022_23_uefa                    0\n",
       "2023_24_uefa                    0\n",
       "price_eth                       0\n",
       "transaction_category            0\n",
       "transaction_market              0\n",
       "in_season_card_transaction      0\n",
       "user_category                   0\n",
       "dtype: int64"
      ]
     },
     "execution_count": 95,
     "metadata": {},
     "output_type": "execute_result"
    }
   ],
   "source": [
    "la_liga_transactions_df.isna().sum()"
   ]
  },
  {
   "cell_type": "code",
   "execution_count": 39,
   "id": "683352f4-0a44-4bb8-b280-41623da016d6",
   "metadata": {},
   "outputs": [
    {
     "data": {
      "text/plain": [
       "0"
      ]
     },
     "execution_count": 39,
     "metadata": {},
     "output_type": "execute_result"
    }
   ],
   "source": [
    "la_liga_transactions_df.duplicated().sum()"
   ]
  },
  {
   "cell_type": "code",
   "execution_count": 40,
   "id": "bfea7551-ec43-4dd9-854c-d093e881a171",
   "metadata": {},
   "outputs": [
    {
     "data": {
      "text/plain": [
       "786659"
      ]
     },
     "execution_count": 40,
     "metadata": {},
     "output_type": "execute_result"
    }
   ],
   "source": [
    "# having not fetch transaction ID cannot assess if some are duplicated. Apparently not. \n",
    "la_liga_transactions_df.duplicated(subset=['card_id']).sum()"
   ]
  },
  {
   "cell_type": "markdown",
   "id": "37781d0b-d4c9-4f19-8b05-32a19c593800",
   "metadata": {},
   "source": [
    "#### Cleaning/preparing the Prices "
   ]
  },
  {
   "cell_type": "code",
   "execution_count": 41,
   "id": "36d9e806-ea16-4312-968d-d4af4d8c5b49",
   "metadata": {},
   "outputs": [],
   "source": [
    "# Converting WEI in ETH (ETH prices are in WEI, which 1e-18 ETH)\n",
    "la_liga_transactions_df['price_eth'] = la_liga_transactions_df['price_wei'] * 1e-18"
   ]
  },
  {
   "cell_type": "markdown",
   "id": "2a99fac4-9396-4a09-94e8-07dd3fbc1de7",
   "metadata": {},
   "source": [
    "##### categorisation of transactions\n",
    "There are both paying and free transactions (REWARD,REFERRAL) as well as non usable paying transaction (cards bought in bundles or packs).\n",
    "Also, in the analysis, it will be insightful to distinguish primary marked (english_auction and more recently intant_buy) and secondary_market (_OFFER). "
   ]
  },
  {
   "cell_type": "code",
   "execution_count": 42,
   "id": "38b23c0e-c051-426b-bd17-418f82eb5df9",
   "metadata": {},
   "outputs": [
    {
     "data": {
      "text/plain": [
       "transaction_type\n",
       "SINGLE_SALE_OFFER          456314\n",
       "ENGLISH_AUCTION            320100\n",
       "DIRECT_OFFER               214920\n",
       "SINGLE_BUY_OFFER           134390\n",
       "REWARD                     111796\n",
       "INSTANT_BUY                 10775\n",
       "REFERRAL                     9625\n",
       "BUNDLED_ENGLISH_AUCTION      1693\n",
       "PACK                         1301\n",
       "TRANSFER                       68\n",
       "MINT                           26\n",
       "DEPOSIT                         4\n",
       "WITHDRAWAL                      2\n",
       "Name: count, dtype: int64"
      ]
     },
     "execution_count": 42,
     "metadata": {},
     "output_type": "execute_result"
    }
   ],
   "source": [
    "la_liga_transactions_df['transaction_type'].value_counts()"
   ]
  },
  {
   "cell_type": "code",
   "execution_count": 43,
   "id": "01d476de-793b-40ab-a522-c99e8a17d8b8",
   "metadata": {},
   "outputs": [],
   "source": [
    "# Create the transaction_category column\n",
    "conditions = [\n",
    "    la_liga_transactions_df['transaction_type'].isin(['SINGLE_SALE_OFFER', 'ENGLISH_AUCTION', 'DIRECT_OFFER', 'SINGLE_BUY_OFFER', 'INSTANT_BUY']),\n",
    "    la_liga_transactions_df['transaction_type'].isin(['REWARD', 'REFERRAL'])\n",
    "]\n",
    "values = ['paid_transaction', 'free_transaction']\n",
    "default_value = 'other'\n",
    "la_liga_transactions_df['transaction_category'] = np.select(conditions, values, default=default_value)\n",
    "\n",
    "# Create the transaction_market column\n",
    "market_conditions = [\n",
    "    la_liga_transactions_df['transaction_type'].isin(['ENGLISH_AUCTION', 'INSTANT_BUY']),\n",
    "    la_liga_transactions_df['transaction_type'].isin(['SINGLE_SALE_OFFER', 'DIRECT_OFFER', 'SINGLE_BUY_OFFER'])\n",
    "]\n",
    "market_values = ['Primary', 'Secondary']\n",
    "market_default_value = 'not-applicable'\n",
    "la_liga_transactions_df['transaction_market'] = np.select(market_conditions, market_values, default=market_default_value)\n"
   ]
  },
  {
   "cell_type": "code",
   "execution_count": 44,
   "id": "754ee711-adda-4aec-ab00-9c961cdbdd87",
   "metadata": {},
   "outputs": [
    {
     "data": {
      "text/plain": [
       "transaction_category\n",
       "paid_transaction    1136499\n",
       "free_transaction     121421\n",
       "other                  3094\n",
       "Name: count, dtype: int64"
      ]
     },
     "execution_count": 44,
     "metadata": {},
     "output_type": "execute_result"
    }
   ],
   "source": [
    "la_liga_transactions_df['transaction_category'].value_counts()"
   ]
  },
  {
   "cell_type": "code",
   "execution_count": 45,
   "id": "4f90d90d-e0c2-45aa-8068-f90c2e7133a9",
   "metadata": {},
   "outputs": [],
   "source": [
    "#Handle with the trade of cards (direct_offers that appears with price = 0)\n",
    "\n",
    "# Rename the category from \"paid_transaction\" to \"monetary_transaction\"\n",
    "la_liga_transactions_df['transaction_category'] = la_liga_transactions_df['transaction_category'].replace('paid_transaction', 'monetary_transaction')\n",
    "\n",
    "# Create the new category \"trade\"\n",
    "trade_condition = (la_liga_transactions_df['transaction_type'] == 'DIRECT_OFFER') & (la_liga_transactions_df['price_eur'] == 0)\n",
    "la_liga_transactions_df.loc[trade_condition, 'transaction_category'] = 'trade'\n"
   ]
  },
  {
   "cell_type": "code",
   "execution_count": 46,
   "id": "f12ec381-e2be-4d34-9519-7a4b3d28ff4a",
   "metadata": {},
   "outputs": [
    {
     "data": {
      "text/plain": [
       "transaction_category\n",
       "monetary_transaction    940273\n",
       "trade                   196226\n",
       "free_transaction        121421\n",
       "other                     3094\n",
       "Name: count, dtype: int64"
      ]
     },
     "execution_count": 46,
     "metadata": {},
     "output_type": "execute_result"
    }
   ],
   "source": [
    "la_liga_transactions_df['transaction_category'].value_counts()"
   ]
  },
  {
   "cell_type": "markdown",
   "id": "bd8ba351-c426-4860-a3df-6d756ab59c36",
   "metadata": {},
   "source": [
    "##### Flagging of abnormal transactions\n",
    "In some cases (misprint or personal arrangements (loans, etc)) a out-of-market price will intervene. To flag in a very volatile market, we can calculate a rolling window statistic, such as the mean or median and flag the transactions that differs a lot from that. to be implemented if time \n"
   ]
  },
  {
   "cell_type": "markdown",
   "id": "13b49a27-b737-4192-9183-be46ec0e458a",
   "metadata": {},
   "source": [
    "#### i. Flagging current / precedent season card.\n",
    "more and more elements in the gamemplay benefit more to the current season cards compared to the ones printed in the previous seasons. So the price impact may have evolve on that point. \n",
    "NB: A major gameplay change has intervene the 7th of February where it is a key element. Maybe it can be seen in the very last days of evolution but it will be a key if running an analysis in one month. "
   ]
  },
  {
   "cell_type": "code",
   "execution_count": 47,
   "id": "acf3a742-42f2-4686-8ed7-f5972d4415e4",
   "metadata": {},
   "outputs": [
    {
     "data": {
      "text/html": [
       "<div>\n",
       "<style scoped>\n",
       "    .dataframe tbody tr th:only-of-type {\n",
       "        vertical-align: middle;\n",
       "    }\n",
       "\n",
       "    .dataframe tbody tr th {\n",
       "        vertical-align: top;\n",
       "    }\n",
       "\n",
       "    .dataframe thead th {\n",
       "        text-align: right;\n",
       "    }\n",
       "</style>\n",
       "<table border=\"1\" class=\"dataframe\">\n",
       "  <thead>\n",
       "    <tr style=\"text-align: right;\">\n",
       "      <th></th>\n",
       "      <th>present_team_name</th>\n",
       "      <th>card_id</th>\n",
       "      <th>asset_id</th>\n",
       "      <th>card_name</th>\n",
       "      <th>season_year</th>\n",
       "      <th>card_slug</th>\n",
       "      <th>rarity</th>\n",
       "      <th>card_creation_date</th>\n",
       "      <th>grade</th>\n",
       "      <th>power</th>\n",
       "      <th>...</th>\n",
       "      <th>team_slug</th>\n",
       "      <th>2021_22_la_liga</th>\n",
       "      <th>2022_23_la_liga</th>\n",
       "      <th>2023_24_la_liga</th>\n",
       "      <th>2021_22_uefa</th>\n",
       "      <th>2022_23_uefa</th>\n",
       "      <th>2023_24_uefa</th>\n",
       "      <th>price_eth</th>\n",
       "      <th>transaction_category</th>\n",
       "      <th>transaction_market</th>\n",
       "    </tr>\n",
       "  </thead>\n",
       "  <tbody>\n",
       "    <tr>\n",
       "      <th>0</th>\n",
       "      <td>Real Madrid CF</td>\n",
       "      <td>Card:00035848-b60d-4999-832c-e4dd8e939007</td>\n",
       "      <td>0x040004752c83837b25107500c71efa485aafb6cf1b82...</td>\n",
       "      <td>Nacho 2021-22 • Limited 218/1000</td>\n",
       "      <td>2021</td>\n",
       "      <td>jose-ignacio-fernandez-iglesias-2021-limited-218</td>\n",
       "      <td>limited</td>\n",
       "      <td>2021-11-25 03:40:39+00:00</td>\n",
       "      <td>7</td>\n",
       "      <td>1.045</td>\n",
       "      <td>...</td>\n",
       "      <td>real-madrid-madrid</td>\n",
       "      <td>True</td>\n",
       "      <td>True</td>\n",
       "      <td>True</td>\n",
       "      <td>True</td>\n",
       "      <td>True</td>\n",
       "      <td>True</td>\n",
       "      <td>0.0000</td>\n",
       "      <td>free_transaction</td>\n",
       "      <td>not-applicable</td>\n",
       "    </tr>\n",
       "    <tr>\n",
       "      <th>1</th>\n",
       "      <td>Real Madrid CF</td>\n",
       "      <td>Card:01058883-d9bc-4fe7-953e-1ac82197e006</td>\n",
       "      <td>0x040016f093c032839408074366792f3f16f388d20a20...</td>\n",
       "      <td>Nacho 2021-22 • Limited 488/1000</td>\n",
       "      <td>2021</td>\n",
       "      <td>jose-ignacio-fernandez-iglesias-2021-limited-488</td>\n",
       "      <td>limited</td>\n",
       "      <td>2022-05-31 08:58:22+00:00</td>\n",
       "      <td>13</td>\n",
       "      <td>1.075</td>\n",
       "      <td>...</td>\n",
       "      <td>real-madrid-madrid</td>\n",
       "      <td>True</td>\n",
       "      <td>True</td>\n",
       "      <td>True</td>\n",
       "      <td>True</td>\n",
       "      <td>True</td>\n",
       "      <td>True</td>\n",
       "      <td>0.0065</td>\n",
       "      <td>monetary_transaction</td>\n",
       "      <td>Primary</td>\n",
       "    </tr>\n",
       "  </tbody>\n",
       "</table>\n",
       "<p>2 rows × 47 columns</p>\n",
       "</div>"
      ],
      "text/plain": [
       "  present_team_name                                    card_id  \\\n",
       "0    Real Madrid CF  Card:00035848-b60d-4999-832c-e4dd8e939007   \n",
       "1    Real Madrid CF  Card:01058883-d9bc-4fe7-953e-1ac82197e006   \n",
       "\n",
       "                                            asset_id  \\\n",
       "0  0x040004752c83837b25107500c71efa485aafb6cf1b82...   \n",
       "1  0x040016f093c032839408074366792f3f16f388d20a20...   \n",
       "\n",
       "                          card_name  season_year  \\\n",
       "0  Nacho 2021-22 • Limited 218/1000         2021   \n",
       "1  Nacho 2021-22 • Limited 488/1000         2021   \n",
       "\n",
       "                                          card_slug   rarity  \\\n",
       "0  jose-ignacio-fernandez-iglesias-2021-limited-218  limited   \n",
       "1  jose-ignacio-fernandez-iglesias-2021-limited-488  limited   \n",
       "\n",
       "         card_creation_date  grade  power  ...           team_slug  \\\n",
       "0 2021-11-25 03:40:39+00:00      7  1.045  ...  real-madrid-madrid   \n",
       "1 2022-05-31 08:58:22+00:00     13  1.075  ...  real-madrid-madrid   \n",
       "\n",
       "   2021_22_la_liga  2022_23_la_liga  2023_24_la_liga 2021_22_uefa  \\\n",
       "0             True             True             True         True   \n",
       "1             True             True             True         True   \n",
       "\n",
       "  2022_23_uefa  2023_24_uefa  price_eth  transaction_category  \\\n",
       "0         True          True     0.0000      free_transaction   \n",
       "1         True          True     0.0065  monetary_transaction   \n",
       "\n",
       "  transaction_market  \n",
       "0     not-applicable  \n",
       "1            Primary  \n",
       "\n",
       "[2 rows x 47 columns]"
      ]
     },
     "execution_count": 47,
     "metadata": {},
     "output_type": "execute_result"
    }
   ],
   "source": [
    "la_liga_transactions_df.head(2)"
   ]
  },
  {
   "cell_type": "code",
   "execution_count": 48,
   "id": "d5f6222b-b89a-4b66-ba13-7384522354e7",
   "metadata": {},
   "outputs": [],
   "source": [
    "la_liga_transactions_df['in_season_card_transaction'] = la_liga_transactions_df['transaction_date_season'].astype(str).str.replace('season_', '') == la_liga_transactions_df['season_year'].astype(str)"
   ]
  },
  {
   "cell_type": "code",
   "execution_count": 49,
   "id": "bac0df1e-f04c-4930-a26a-fff644380be9",
   "metadata": {},
   "outputs": [
    {
     "data": {
      "text/plain": [
       "in_season_card_transaction\n",
       "True     895755\n",
       "False    365259\n",
       "Name: count, dtype: int64"
      ]
     },
     "execution_count": 49,
     "metadata": {},
     "output_type": "execute_result"
    }
   ],
   "source": [
    "la_liga_transactions_df['in_season_card_transaction'].value_counts()"
   ]
  },
  {
   "cell_type": "markdown",
   "id": "2ca856a2-2d32-49e1-ac9e-11e3f790bace",
   "metadata": {},
   "source": [
    "#### Creation of Demand & Supply indicators: "
   ]
  },
  {
   "cell_type": "code",
   "execution_count": 50,
   "id": "ec25ca82-6f23-4009-83bd-98e723348a6c",
   "metadata": {},
   "outputs": [],
   "source": [
    "### For user balance: users with first buy & User with last sale \n",
    "### to see later if time\n"
   ]
  },
  {
   "cell_type": "code",
   "execution_count": 51,
   "id": "429bce7a-8f49-422f-9b1d-80e930ddc4a8",
   "metadata": {},
   "outputs": [],
   "source": [
    "### Differenciation Manager/Trader"
   ]
  },
  {
   "cell_type": "code",
   "execution_count": 52,
   "id": "69c629bf-2106-44e0-bb10-65f7373f00b4",
   "metadata": {},
   "outputs": [
    {
     "data": {
      "text/plain": [
       "141341"
      ]
     },
     "execution_count": 52,
     "metadata": {},
     "output_type": "execute_result"
    }
   ],
   "source": [
    "la_liga_transactions_df['user_slug'].nunique()"
   ]
  },
  {
   "cell_type": "code",
   "execution_count": 53,
   "id": "0d20b516-9fb0-4245-9909-480bd9fc080d",
   "metadata": {},
   "outputs": [],
   "source": [
    "top_100_user_transac_count = la_liga_transactions_df['user_slug'].value_counts().head(100).index\n",
    "la_liga_transactions_df['user_category'] = np.where(la_liga_transactions_df['user_slug'].isin(top_100_user_transac_count), 'trader', 'manager')"
   ]
  },
  {
   "cell_type": "code",
   "execution_count": 54,
   "id": "50180bad-a8f5-4b2f-b89b-a8885e30ba5f",
   "metadata": {},
   "outputs": [],
   "source": [
    "#Creating a sub-dataset only on first transaction to ease some data analysis: \n",
    "\n",
    "la_liga_transactions_df = la_liga_transactions_df.sort_values('transaction_date')\n",
    "first_la_liga_trans_df = la_liga_transactions_df.groupby('card_id').first().reset_index()\n",
    "la_liga_cards_df = first_la_liga_trans_df[['card_id', 'asset_id', 'card_name', 'season_year', 'card_slug', 'rarity', 'card_creation_date', 'grade', 'power', 'xp', 'serial_number', 'shirt_number', 'special_edition', 'player_slug', 'card_creation_date_year', 'card_creation_date_month', 'card_creation_date_week', 'card_creation_date_dayofyear', 'card_creation_date_season', 'position', 'age', 'u23_eligible', 'u23_until', 'club_slug_upon_transaction']].copy()"
   ]
  },
  {
   "cell_type": "code",
   "execution_count": 55,
   "id": "8dab3f89-e13f-4e96-ba4f-c22de8c63c3e",
   "metadata": {},
   "outputs": [
    {
     "data": {
      "text/plain": [
       "(474355, 24)"
      ]
     },
     "execution_count": 55,
     "metadata": {},
     "output_type": "execute_result"
    }
   ],
   "source": [
    "la_liga_cards_df.shape"
   ]
  },
  {
   "cell_type": "code",
   "execution_count": 56,
   "id": "7f32f3f9-3a28-4b9b-9c26-2c06ab810591",
   "metadata": {},
   "outputs": [],
   "source": [
    "only_transactions_df = la_liga_transactions_df[['card_id', 'transaction_date', 'transaction_type', 'price_wei', 'price_eur', 'price_eth', 'user_id', 'user_slug', 'player_slug', 'transaction_date_year', 'transaction_date_month', 'transaction_date_week', 'transaction_date_dayofyear', 'transaction_date_season', 'club_slug_upon_transaction', 'transaction_category', 'transaction_market', 'in_season_card_transaction', 'user_category']].copy()"
   ]
  },
  {
   "cell_type": "code",
   "execution_count": 57,
   "id": "37ca4a7d-6974-4522-894c-d3c0ce5c3770",
   "metadata": {},
   "outputs": [],
   "source": [
    "#la_liga_transactions_df.to_csv('la_liga_filtered_cards_transactions.csv', index=False)\n",
    "#only_transactions_df.to_csv('transactions_only.csv',index=False)\n",
    "#la_liga_cards_df.to_csv('la_liga_cards.csv',index=False)"
   ]
  },
  {
   "cell_type": "markdown",
   "id": "602e38e0-4ced-4bbb-8bea-9abfb56936c8",
   "metadata": {},
   "source": [
    "#### Export to MyQL"
   ]
  },
  {
   "cell_type": "code",
   "execution_count": 58,
   "id": "3e522bc4-69ed-44e8-8877-63ec4a30f52e",
   "metadata": {},
   "outputs": [],
   "source": [
    "pw = os.getenv('MySQLpwd')\n",
    "connection_string = 'mysql+pymysql://root:' + pw + '@localhost:3306/'\n",
    "engine = create_engine(connection_string)"
   ]
  },
  {
   "cell_type": "code",
   "execution_count": 59,
   "id": "8ce8c496-a378-4ccd-872b-050cff4487ec",
   "metadata": {},
   "outputs": [
    {
     "data": {
      "text/plain": [
       "24"
      ]
     },
     "execution_count": 59,
     "metadata": {},
     "output_type": "execute_result"
    }
   ],
   "source": [
    "clubs_by_season_df.to_sql(name='clubs',con=engine, schema='final_project', if_exists='replace', index=False)"
   ]
  },
  {
   "cell_type": "code",
   "execution_count": 60,
   "id": "5436356a-8261-443e-a100-613dd946d663",
   "metadata": {},
   "outputs": [
    {
     "data": {
      "text/plain": [
       "474355"
      ]
     },
     "execution_count": 60,
     "metadata": {},
     "output_type": "execute_result"
    }
   ],
   "source": [
    "#la_liga_cards_df.to_sql(name='cards',con=engine, schema='final_project', if_exists='replace', index=False)"
   ]
  },
  {
   "cell_type": "code",
   "execution_count": 62,
   "id": "7d620b26-628c-45f4-96ff-ba2f9beae808",
   "metadata": {},
   "outputs": [
    {
     "data": {
      "text/plain": [
       "card_id                                    object\n",
       "transaction_date              datetime64[ns, UTC]\n",
       "transaction_type                           object\n",
       "price_wei                                   int64\n",
       "price_eur                                 float64\n",
       "price_eth                                 float64\n",
       "user_id                                    object\n",
       "user_slug                                  object\n",
       "player_slug                                object\n",
       "transaction_date_year                       int32\n",
       "transaction_date_month                      int32\n",
       "transaction_date_week                      UInt32\n",
       "transaction_date_dayofyear                  int32\n",
       "transaction_date_season                    object\n",
       "club_slug_upon_transaction                 object\n",
       "transaction_category                       object\n",
       "transaction_market                         object\n",
       "in_season_card_transaction                   bool\n",
       "user_category                              object\n",
       "dtype: object"
      ]
     },
     "execution_count": 62,
     "metadata": {},
     "output_type": "execute_result"
    }
   ],
   "source": [
    "only_transactions_df.dtypes"
   ]
  },
  {
   "cell_type": "code",
   "execution_count": 63,
   "id": "c9fceeea-c08e-4359-a4d8-cbbd48a92684",
   "metadata": {},
   "outputs": [
    {
     "data": {
      "text/plain": [
       "1261014"
      ]
     },
     "execution_count": 63,
     "metadata": {},
     "output_type": "execute_result"
    }
   ],
   "source": [
    "#only_transactions_df.to_sql(name='transactions',con=engine, schema='final_project', dtype={'transaction_date':sqlalchemy.DateTime()}, if_exists='replace', index=False)"
   ]
  },
  {
   "cell_type": "code",
   "execution_count": 64,
   "id": "cb45f43f-1c59-4e2e-8268-009bc63c4c1d",
   "metadata": {},
   "outputs": [],
   "source": [
    "players_club_hist_df['u23_until'] = players_club_hist_df['u23_until'].fillna('NA')"
   ]
  },
  {
   "cell_type": "code",
   "execution_count": 82,
   "id": "d6588e73-f641-4c21-8b40-2ccc49e30c6d",
   "metadata": {},
   "outputs": [
    {
     "data": {
      "text/plain": [
       "37"
      ]
     },
     "execution_count": 82,
     "metadata": {},
     "output_type": "execute_result"
    }
   ],
   "source": [
    "max(cleaned_players_club_hist_df['club_slug'].apply(len))"
   ]
  },
  {
   "cell_type": "code",
   "execution_count": 71,
   "id": "216ebaf8-1c9c-4726-8428-90eba7cca953",
   "metadata": {},
   "outputs": [],
   "source": [
    "cleaned_players_club_hist_df = players_club_hist_df[players_club_hist_df['club_slug'].isin(clubs_by_season_df['team_slug'])]"
   ]
  },
  {
   "cell_type": "code",
   "execution_count": 73,
   "id": "526650c5-e7a3-4156-aeb1-6d97d6273cd1",
   "metadata": {},
   "outputs": [
    {
     "data": {
      "text/plain": [
       "2423"
      ]
     },
     "execution_count": 73,
     "metadata": {},
     "output_type": "execute_result"
    }
   ],
   "source": [
    "cleaned_players_club_hist_df.to_sql(name='clubs_by_players',con=engine, schema='final_project', dtype={'contract_start_date':sqlalchemy.DateTime(),'contract_end_date':sqlalchemy.DateTime()},if_exists='replace', index=False)"
   ]
  },
  {
   "cell_type": "markdown",
   "id": "5c4fb03e-28b0-482f-b8a8-6abd8a01b4aa",
   "metadata": {},
   "source": [
    "## Data Cleaning and Wrangling of the Players Scores Dataframe"
   ]
  },
  {
   "cell_type": "code",
   "execution_count": 74,
   "id": "5527d847-7bba-41cd-bf2a-86ed130db61c",
   "metadata": {},
   "outputs": [],
   "source": [
    "players_scores_df = pd.read_csv('la_liga_players_scores.csv')"
   ]
  },
  {
   "cell_type": "code",
   "execution_count": 75,
   "id": "2d5f33f8-afff-4ad1-bc70-6fd65b3757f8",
   "metadata": {},
   "outputs": [
    {
     "data": {
      "text/plain": [
       "(121275, 13)"
      ]
     },
     "execution_count": 75,
     "metadata": {},
     "output_type": "execute_result"
    }
   ],
   "source": [
    "players_scores_df.shape"
   ]
  },
  {
   "cell_type": "code",
   "execution_count": 79,
   "id": "dfde743d-dc75-4b34-89a7-24eac7a17e9b",
   "metadata": {},
   "outputs": [
    {
     "data": {
      "text/plain": [
       "player_name                       0\n",
       "player_slug                       0\n",
       "player_id                         0\n",
       "age                               0\n",
       "u23_eligible                      0\n",
       "u23_until                         0\n",
       "so5_score                         0\n",
       "decisive_score                    0\n",
       "gameweek_date                     0\n",
       "gameweek_number                   0\n",
       "gameweek_id                       0\n",
       "rolling_avg_last_5_scores     44333\n",
       "rolling_avg_last_15_scores    44333\n",
       "dtype: int64"
      ]
     },
     "execution_count": 79,
     "metadata": {},
     "output_type": "execute_result"
    }
   ],
   "source": [
    "players_scores_df.isna().sum()"
   ]
  },
  {
   "cell_type": "code",
   "execution_count": 78,
   "id": "c5a16fb1-3526-486a-aa28-4801e0e5151b",
   "metadata": {},
   "outputs": [],
   "source": [
    "players_scores_df['u23_until'] = players_scores_df['u23_until'].fillna('NA')"
   ]
  },
  {
   "cell_type": "code",
   "execution_count": 93,
   "id": "a04761e3-eaa5-4662-bdf6-e1ea866cfad8",
   "metadata": {},
   "outputs": [],
   "source": [
    "players_scores_df['gameweek_date'] = pd.to_datetime(players_scores_df['gameweek_date'])"
   ]
  },
  {
   "cell_type": "code",
   "execution_count": 94,
   "id": "f377095a-20db-4a81-aa4f-1a81af01843e",
   "metadata": {},
   "outputs": [
    {
     "data": {
      "text/plain": [
       "121275"
      ]
     },
     "execution_count": 94,
     "metadata": {},
     "output_type": "execute_result"
    }
   ],
   "source": [
    "players_scores_df.to_sql(\n",
    "    name='temp_players_scores',\n",
    "    con=engine,\n",
    "    schema='final_project',\n",
    "    dtype={'gameweek_date': sqlalchemy.DateTime()},\n",
    "    if_exists='replace',\n",
    "    index=False\n",
    ")"
   ]
  },
  {
   "cell_type": "code",
   "execution_count": 87,
   "id": "50b8a71f-c911-4dbf-9fe5-e1d33a77270c",
   "metadata": {},
   "outputs": [
    {
     "name": "stdout",
     "output_type": "stream",
     "text": [
      "[ 20  21  22  23  24  25  26  27  28  29  30  31  32  33  34  35  36  37\n",
      "  38  39  40  41  42  43  44  45  46  47  48  49  51  52  53  54  55  56\n",
      "  58  59  60  61  62  63  64  66  67  68  69  70  71  72  73  74  75  76\n",
      "  77  78  79  80  81  82  83  84  85  86  87  88  89  90  91  92  93  94\n",
      "  95  96  97  98  99 100 101 102 103 104 105 106 107 108 109 110 111 112\n",
      " 113 114 115 116 117 118 119 120 121 122 123 124 125 126 127 128 129 130\n",
      " 131 132 133 134 135 136 137 138 139 140 142 143 144 145 146 147 148 149\n",
      " 150 151 152 154 155 156 157 158 159 160 161 162 163 164 165 166 167 168\n",
      " 169 170 171 172 173 174 175 176 177 178 179 180 181 182 183 184 185 186\n",
      " 187 188 189 190 191 192 193 194 195 196 197 198 199 200 201 202 203 204\n",
      " 205 206 207 208 209 210 211 212 213 214 215 216 217 218 219 220 221 222\n",
      " 223 224 225 226 227 228 229 230 231 232 233 234 235 236 237 238 239 240\n",
      " 241 242 243 244 245 246 247 248 249 250 251 252 253 254 255 256 257 258\n",
      " 259 260 261 262 263 264 265 266 267 268 269 270 271 272 273 274 275 276\n",
      " 277 278 279 280 281 282 283 284 285 286 287 288 289 290 291 292 293 294\n",
      " 295 296 297 298 299 300 301 302 303 304 305 306 307 308 309 310 311 312\n",
      " 313 314 315 316 317 318 319 320 321 322 323 324 325 326 327 328 329 330\n",
      " 331 332 333 334 335 336 337 338 339 340 341 342 343 344 345 346 347 348\n",
      " 349 350 351 352 353 354 355 356 357 358 359 360 361 362 363 364 365 366\n",
      " 367 368 369 370 371 372 373 374 375 376 377 378 379 380 381 382 383 384\n",
      " 385 386 387 388 389 390 391 392 393 394 395 396 397 398 399 400 401 402\n",
      " 403 404 405 406 407 408 409 410 411 412 413 414 415 416 417 418 419 420\n",
      " 421 422 423 424 425 426 427 428 429 430 431 432 433 434 435 436 437 438\n",
      " 439 440 441 442 443 444 445 446 447 448 449]\n"
     ]
    }
   ],
   "source": [
    "\n",
    "sorted_gameweek_numbers = players_scores_df['gameweek_number'].sort_values()\n",
    "distinct_gameweek_numbers = sorted_gameweek_numbers.unique()\n",
    "\n",
    "print(distinct_gameweek_numbers)"
   ]
  },
  {
   "cell_type": "code",
   "execution_count": 90,
   "id": "ca416051-b68d-46bb-a543-bd806b2f2c25",
   "metadata": {},
   "outputs": [],
   "source": [
    "\n",
    "memphis_scores=players_scores_df[players_scores_df['player_slug']=='memphis-depay']\n",
    "sorted_gameweek_memphis = memphis_scores['gameweek_number'].sort_values()\n",
    "distinct_gameweek_numbers = sorted_gameweek_memphis.unique()\n"
   ]
  },
  {
   "cell_type": "code",
   "execution_count": 88,
   "id": "5af08d3b-02ee-4feb-9a5a-0be0567f9832",
   "metadata": {},
   "outputs": [
    {
     "data": {
      "text/html": [
       "<div>\n",
       "<style scoped>\n",
       "    .dataframe tbody tr th:only-of-type {\n",
       "        vertical-align: middle;\n",
       "    }\n",
       "\n",
       "    .dataframe tbody tr th {\n",
       "        vertical-align: top;\n",
       "    }\n",
       "\n",
       "    .dataframe thead th {\n",
       "        text-align: right;\n",
       "    }\n",
       "</style>\n",
       "<table border=\"1\" class=\"dataframe\">\n",
       "  <thead>\n",
       "    <tr style=\"text-align: right;\">\n",
       "      <th></th>\n",
       "      <th>player_name</th>\n",
       "      <th>player_slug</th>\n",
       "      <th>player_id</th>\n",
       "      <th>age</th>\n",
       "      <th>u23_eligible</th>\n",
       "      <th>u23_until</th>\n",
       "      <th>so5_score</th>\n",
       "      <th>decisive_score</th>\n",
       "      <th>gameweek_date</th>\n",
       "      <th>gameweek_number</th>\n",
       "      <th>gameweek_id</th>\n",
       "      <th>rolling_avg_last_5_scores</th>\n",
       "      <th>rolling_avg_last_15_scores</th>\n",
       "    </tr>\n",
       "  </thead>\n",
       "  <tbody>\n",
       "    <tr>\n",
       "      <th>16789</th>\n",
       "      <td>Memphis Depay</td>\n",
       "      <td>memphis-depay</td>\n",
       "      <td>Player:95e34a9f-d308-4abf-b432-9bf89f68577c</td>\n",
       "      <td>29</td>\n",
       "      <td>False</td>\n",
       "      <td>NA</td>\n",
       "      <td>60.0</td>\n",
       "      <td>60.0</td>\n",
       "      <td>2024-02-04T20:00:00Z</td>\n",
       "      <td>447</td>\n",
       "      <td>So5Fixture:73a2e71f-84ad-49dc-aa3e-2105453584b1</td>\n",
       "      <td>60.000000</td>\n",
       "      <td>60.000000</td>\n",
       "    </tr>\n",
       "    <tr>\n",
       "      <th>16790</th>\n",
       "      <td>Memphis Depay</td>\n",
       "      <td>memphis-depay</td>\n",
       "      <td>Player:95e34a9f-d308-4abf-b432-9bf89f68577c</td>\n",
       "      <td>29</td>\n",
       "      <td>False</td>\n",
       "      <td>NA</td>\n",
       "      <td>69.3</td>\n",
       "      <td>60.0</td>\n",
       "      <td>2024-01-31T20:00:00Z</td>\n",
       "      <td>446</td>\n",
       "      <td>So5Fixture:86b5d805-2f4d-4e3d-8ffc-1ef7b4513357</td>\n",
       "      <td>64.650000</td>\n",
       "      <td>64.650000</td>\n",
       "    </tr>\n",
       "    <tr>\n",
       "      <th>16791</th>\n",
       "      <td>Memphis Depay</td>\n",
       "      <td>memphis-depay</td>\n",
       "      <td>Player:95e34a9f-d308-4abf-b432-9bf89f68577c</td>\n",
       "      <td>29</td>\n",
       "      <td>False</td>\n",
       "      <td>NA</td>\n",
       "      <td>71.5</td>\n",
       "      <td>60.0</td>\n",
       "      <td>2024-01-28T20:00:00Z</td>\n",
       "      <td>445</td>\n",
       "      <td>So5Fixture:c41692a5-c060-4a83-9eba-f53f99c66899</td>\n",
       "      <td>66.933333</td>\n",
       "      <td>66.933333</td>\n",
       "    </tr>\n",
       "    <tr>\n",
       "      <th>16792</th>\n",
       "      <td>Memphis Depay</td>\n",
       "      <td>memphis-depay</td>\n",
       "      <td>Player:95e34a9f-d308-4abf-b432-9bf89f68577c</td>\n",
       "      <td>29</td>\n",
       "      <td>False</td>\n",
       "      <td>NA</td>\n",
       "      <td>0.0</td>\n",
       "      <td>25.0</td>\n",
       "      <td>2024-01-22T20:00:00Z</td>\n",
       "      <td>443</td>\n",
       "      <td>So5Fixture:f20d1b70-b81c-4d82-94d9-1ee4067539e3</td>\n",
       "      <td>NaN</td>\n",
       "      <td>NaN</td>\n",
       "    </tr>\n",
       "    <tr>\n",
       "      <th>16793</th>\n",
       "      <td>Memphis Depay</td>\n",
       "      <td>memphis-depay</td>\n",
       "      <td>Player:95e34a9f-d308-4abf-b432-9bf89f68577c</td>\n",
       "      <td>29</td>\n",
       "      <td>False</td>\n",
       "      <td>NA</td>\n",
       "      <td>0.0</td>\n",
       "      <td>25.0</td>\n",
       "      <td>2024-01-10T19:00:00Z</td>\n",
       "      <td>440</td>\n",
       "      <td>So5Fixture:e1f8f0de-65c6-4a04-be99-e2eb921c0aef</td>\n",
       "      <td>NaN</td>\n",
       "      <td>NaN</td>\n",
       "    </tr>\n",
       "    <tr>\n",
       "      <th>...</th>\n",
       "      <td>...</td>\n",
       "      <td>...</td>\n",
       "      <td>...</td>\n",
       "      <td>...</td>\n",
       "      <td>...</td>\n",
       "      <td>...</td>\n",
       "      <td>...</td>\n",
       "      <td>...</td>\n",
       "      <td>...</td>\n",
       "      <td>...</td>\n",
       "      <td>...</td>\n",
       "      <td>...</td>\n",
       "      <td>...</td>\n",
       "    </tr>\n",
       "    <tr>\n",
       "      <th>16982</th>\n",
       "      <td>Memphis Depay</td>\n",
       "      <td>memphis-depay</td>\n",
       "      <td>Player:95e34a9f-d308-4abf-b432-9bf89f68577c</td>\n",
       "      <td>29</td>\n",
       "      <td>False</td>\n",
       "      <td>NA</td>\n",
       "      <td>55.5</td>\n",
       "      <td>35.0</td>\n",
       "      <td>2019-09-28T11:30:00Z</td>\n",
       "      <td>27</td>\n",
       "      <td>So5Fixture:41b7318e-a00c-42df-a6b3-ad4d5b141c96</td>\n",
       "      <td>80.040000</td>\n",
       "      <td>56.673333</td>\n",
       "    </tr>\n",
       "    <tr>\n",
       "      <th>16983</th>\n",
       "      <td>Memphis Depay</td>\n",
       "      <td>memphis-depay</td>\n",
       "      <td>Player:95e34a9f-d308-4abf-b432-9bf89f68577c</td>\n",
       "      <td>29</td>\n",
       "      <td>False</td>\n",
       "      <td>NA</td>\n",
       "      <td>41.0</td>\n",
       "      <td>35.0</td>\n",
       "      <td>2019-09-22T19:00:00Z</td>\n",
       "      <td>26</td>\n",
       "      <td>So5Fixture:d4f9f578-51b4-4ee7-9ab1-7bdb2e2bb0fb</td>\n",
       "      <td>68.240000</td>\n",
       "      <td>57.140000</td>\n",
       "    </tr>\n",
       "    <tr>\n",
       "      <th>16984</th>\n",
       "      <td>Memphis Depay</td>\n",
       "      <td>memphis-depay</td>\n",
       "      <td>Player:95e34a9f-d308-4abf-b432-9bf89f68577c</td>\n",
       "      <td>29</td>\n",
       "      <td>False</td>\n",
       "      <td>NA</td>\n",
       "      <td>75.7</td>\n",
       "      <td>60.0</td>\n",
       "      <td>2019-08-31T15:30:00Z</td>\n",
       "      <td>24</td>\n",
       "      <td>So5Fixture:38c0299c-d6dc-4bd8-8d10-061fe2db3ab8</td>\n",
       "      <td>63.380000</td>\n",
       "      <td>58.400000</td>\n",
       "    </tr>\n",
       "    <tr>\n",
       "      <th>16985</th>\n",
       "      <td>Memphis Depay</td>\n",
       "      <td>memphis-depay</td>\n",
       "      <td>Player:95e34a9f-d308-4abf-b432-9bf89f68577c</td>\n",
       "      <td>29</td>\n",
       "      <td>False</td>\n",
       "      <td>NA</td>\n",
       "      <td>100.0</td>\n",
       "      <td>80.0</td>\n",
       "      <td>2019-08-16T18:45:00Z</td>\n",
       "      <td>22</td>\n",
       "      <td>So5Fixture:58cad14d-80c4-4782-92a6-aa6ef863e5b3</td>\n",
       "      <td>63.380000</td>\n",
       "      <td>59.620000</td>\n",
       "    </tr>\n",
       "    <tr>\n",
       "      <th>16986</th>\n",
       "      <td>Memphis Depay</td>\n",
       "      <td>memphis-depay</td>\n",
       "      <td>Player:95e34a9f-d308-4abf-b432-9bf89f68577c</td>\n",
       "      <td>29</td>\n",
       "      <td>False</td>\n",
       "      <td>NA</td>\n",
       "      <td>67.4</td>\n",
       "      <td>60.0</td>\n",
       "      <td>2019-08-09T18:45:00Z</td>\n",
       "      <td>21</td>\n",
       "      <td>So5Fixture:000ed85f-d48f-48e5-80f0-27e5b4610659</td>\n",
       "      <td>67.920000</td>\n",
       "      <td>61.706667</td>\n",
       "    </tr>\n",
       "  </tbody>\n",
       "</table>\n",
       "<p>198 rows × 13 columns</p>\n",
       "</div>"
      ],
      "text/plain": [
       "         player_name    player_slug  \\\n",
       "16789  Memphis Depay  memphis-depay   \n",
       "16790  Memphis Depay  memphis-depay   \n",
       "16791  Memphis Depay  memphis-depay   \n",
       "16792  Memphis Depay  memphis-depay   \n",
       "16793  Memphis Depay  memphis-depay   \n",
       "...              ...            ...   \n",
       "16982  Memphis Depay  memphis-depay   \n",
       "16983  Memphis Depay  memphis-depay   \n",
       "16984  Memphis Depay  memphis-depay   \n",
       "16985  Memphis Depay  memphis-depay   \n",
       "16986  Memphis Depay  memphis-depay   \n",
       "\n",
       "                                         player_id  age  u23_eligible  \\\n",
       "16789  Player:95e34a9f-d308-4abf-b432-9bf89f68577c   29         False   \n",
       "16790  Player:95e34a9f-d308-4abf-b432-9bf89f68577c   29         False   \n",
       "16791  Player:95e34a9f-d308-4abf-b432-9bf89f68577c   29         False   \n",
       "16792  Player:95e34a9f-d308-4abf-b432-9bf89f68577c   29         False   \n",
       "16793  Player:95e34a9f-d308-4abf-b432-9bf89f68577c   29         False   \n",
       "...                                            ...  ...           ...   \n",
       "16982  Player:95e34a9f-d308-4abf-b432-9bf89f68577c   29         False   \n",
       "16983  Player:95e34a9f-d308-4abf-b432-9bf89f68577c   29         False   \n",
       "16984  Player:95e34a9f-d308-4abf-b432-9bf89f68577c   29         False   \n",
       "16985  Player:95e34a9f-d308-4abf-b432-9bf89f68577c   29         False   \n",
       "16986  Player:95e34a9f-d308-4abf-b432-9bf89f68577c   29         False   \n",
       "\n",
       "      u23_until  so5_score  decisive_score         gameweek_date  \\\n",
       "16789        NA       60.0            60.0  2024-02-04T20:00:00Z   \n",
       "16790        NA       69.3            60.0  2024-01-31T20:00:00Z   \n",
       "16791        NA       71.5            60.0  2024-01-28T20:00:00Z   \n",
       "16792        NA        0.0            25.0  2024-01-22T20:00:00Z   \n",
       "16793        NA        0.0            25.0  2024-01-10T19:00:00Z   \n",
       "...         ...        ...             ...                   ...   \n",
       "16982        NA       55.5            35.0  2019-09-28T11:30:00Z   \n",
       "16983        NA       41.0            35.0  2019-09-22T19:00:00Z   \n",
       "16984        NA       75.7            60.0  2019-08-31T15:30:00Z   \n",
       "16985        NA      100.0            80.0  2019-08-16T18:45:00Z   \n",
       "16986        NA       67.4            60.0  2019-08-09T18:45:00Z   \n",
       "\n",
       "       gameweek_number                                      gameweek_id  \\\n",
       "16789              447  So5Fixture:73a2e71f-84ad-49dc-aa3e-2105453584b1   \n",
       "16790              446  So5Fixture:86b5d805-2f4d-4e3d-8ffc-1ef7b4513357   \n",
       "16791              445  So5Fixture:c41692a5-c060-4a83-9eba-f53f99c66899   \n",
       "16792              443  So5Fixture:f20d1b70-b81c-4d82-94d9-1ee4067539e3   \n",
       "16793              440  So5Fixture:e1f8f0de-65c6-4a04-be99-e2eb921c0aef   \n",
       "...                ...                                              ...   \n",
       "16982               27  So5Fixture:41b7318e-a00c-42df-a6b3-ad4d5b141c96   \n",
       "16983               26  So5Fixture:d4f9f578-51b4-4ee7-9ab1-7bdb2e2bb0fb   \n",
       "16984               24  So5Fixture:38c0299c-d6dc-4bd8-8d10-061fe2db3ab8   \n",
       "16985               22  So5Fixture:58cad14d-80c4-4782-92a6-aa6ef863e5b3   \n",
       "16986               21  So5Fixture:000ed85f-d48f-48e5-80f0-27e5b4610659   \n",
       "\n",
       "       rolling_avg_last_5_scores  rolling_avg_last_15_scores  \n",
       "16789                  60.000000                   60.000000  \n",
       "16790                  64.650000                   64.650000  \n",
       "16791                  66.933333                   66.933333  \n",
       "16792                        NaN                         NaN  \n",
       "16793                        NaN                         NaN  \n",
       "...                          ...                         ...  \n",
       "16982                  80.040000                   56.673333  \n",
       "16983                  68.240000                   57.140000  \n",
       "16984                  63.380000                   58.400000  \n",
       "16985                  63.380000                   59.620000  \n",
       "16986                  67.920000                   61.706667  \n",
       "\n",
       "[198 rows x 13 columns]"
      ]
     },
     "execution_count": 88,
     "metadata": {},
     "output_type": "execute_result"
    }
   ],
   "source": [
    "memphis_scores"
   ]
  },
  {
   "cell_type": "code",
   "execution_count": null,
   "id": "c4e56a95-9a0f-4c29-a8cf-5ef71fd35c5f",
   "metadata": {},
   "outputs": [],
   "source": [
    "#create a column with null for 0 "
   ]
  },
  {
   "cell_type": "code",
   "execution_count": null,
   "id": "582667df-2855-4f0b-a268-a4af3a2fc589",
   "metadata": {},
   "outputs": [],
   "source": []
  },
  {
   "cell_type": "code",
   "execution_count": null,
   "id": "e2155a0e-3f27-430b-8c69-50b707d77be6",
   "metadata": {},
   "outputs": [],
   "source": []
  },
  {
   "cell_type": "code",
   "execution_count": null,
   "id": "2a756d8e-4214-4e8f-9c10-ee1fcc1afcf9",
   "metadata": {},
   "outputs": [],
   "source": []
  },
  {
   "cell_type": "code",
   "execution_count": null,
   "id": "918f3eb0-b208-42da-94a5-c577ae09e4f1",
   "metadata": {},
   "outputs": [],
   "source": []
  },
  {
   "cell_type": "code",
   "execution_count": null,
   "id": "b451a0cb-856d-4014-961e-598cd4c31c08",
   "metadata": {},
   "outputs": [],
   "source": []
  }
 ],
 "metadata": {
  "kernelspec": {
   "display_name": "Python 3 (ipykernel)",
   "language": "python",
   "name": "python3"
  },
  "language_info": {
   "codemirror_mode": {
    "name": "ipython",
    "version": 3
   },
   "file_extension": ".py",
   "mimetype": "text/x-python",
   "name": "python",
   "nbconvert_exporter": "python",
   "pygments_lexer": "ipython3",
   "version": "3.11.5"
  }
 },
 "nbformat": 4,
 "nbformat_minor": 5
}
